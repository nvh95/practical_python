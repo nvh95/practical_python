{
 "cells": [
  {
   "cell_type": "markdown",
   "metadata": {},
   "source": [
    "# Problem 1\n",
    "Because when values[i] is assigned, then in the next iteration, values[i+1] doubles the new values of values[i], not the original one"
   ]
  },
  {
   "cell_type": "code",
   "execution_count": 1,
   "metadata": {
    "collapsed": true
   },
   "outputs": [],
   "source": [
    "def double_preceding(values): \n",
    "    if values == []:\n",
    "        pass # do nothing to the empty list \n",
    "    else:\n",
    "        temp = values[len(values)-2]\n",
    "        for i in range(len(values)-1,1,-1):\n",
    "            values[i] = 2 * temp\n",
    "            temp = values[i-2]\n",
    "        values[0]=0"
   ]
  },
  {
   "cell_type": "code",
   "execution_count": 2,
   "metadata": {
    "collapsed": false
   },
   "outputs": [
    {
     "name": "stdout",
     "output_type": "stream",
     "text": [
      "[0, 2, 4, 6]\n"
     ]
    }
   ],
   "source": [
    "a = [1,2,3,4]\n",
    "double_preceding(a)\n",
    "print a"
   ]
  },
  {
   "cell_type": "markdown",
   "metadata": {},
   "source": [
    "# Problem 2"
   ]
  },
  {
   "cell_type": "code",
   "execution_count": 3,
   "metadata": {
    "collapsed": true
   },
   "outputs": [],
   "source": [
    "rat_1= [2.16, 2.2, 2.0, 2.4]\n",
    "rat_2= [2.13, 2.42, 2.5, 2.3]"
   ]
  },
  {
   "cell_type": "code",
   "execution_count": 4,
   "metadata": {
    "collapsed": false
   },
   "outputs": [
    {
     "name": "stdout",
     "output_type": "stream",
     "text": [
      "Rat 1 weighed more than Rat 2 on Day 1.\n"
     ]
    }
   ],
   "source": [
    "# a\n",
    "if rat_1[0] > rat_2[0]:\n",
    "    print \"Rat 1 weighed more than Rat 2 on Day 1.\"\n",
    "else:\n",
    "    print 'Rat 1 weighed less than Rat 2 on Day 1.'\n"
   ]
  },
  {
   "cell_type": "code",
   "execution_count": 5,
   "metadata": {
    "collapsed": false
   },
   "outputs": [
    {
     "name": "stdout",
     "output_type": "stream",
     "text": [
      "Rat 1 remained heavier than Rat 2.\n"
     ]
    }
   ],
   "source": [
    "# b\n",
    "if rat_1[0] > rat_2[0]:\n",
    "    if rat_1[3] > rat_2[3]:\n",
    "        print \"Rat 1 remained heavier than Rat 2.\"\n",
    "else:\n",
    "    print \"Rat 2 became heavier than Rat 1.\""
   ]
  },
  {
   "cell_type": "code",
   "execution_count": 6,
   "metadata": {
    "collapsed": false
   },
   "outputs": [
    {
     "name": "stdout",
     "output_type": "stream",
     "text": [
      "Rat 1 remained heavier than Rat 2.\n"
     ]
    }
   ],
   "source": [
    "if rat_1[0] > rat_2[0] and rat_1[3] > rat_2[3]:\n",
    "    print \"Rat 1 remained heavier than Rat 2.\"\n",
    "else:\n",
    "    print \"Rat 2 became heavier than Rat 1.\""
   ]
  },
  {
   "cell_type": "markdown",
   "metadata": {},
   "source": [
    "# Problem 3"
   ]
  },
  {
   "cell_type": "code",
   "execution_count": 7,
   "metadata": {
    "collapsed": false
   },
   "outputs": [
    {
     "name": "stdout",
     "output_type": "stream",
     "text": [
      "[33, 34, 35, 36, 37, 38, 39, 40, 41, 42, 43, 44, 45, 46, 47, 48, 49]\n"
     ]
    }
   ],
   "source": [
    "print range(33,49+1)"
   ]
  },
  {
   "cell_type": "markdown",
   "metadata": {},
   "source": [
    "# Problem 4"
   ]
  },
  {
   "cell_type": "code",
   "execution_count": 8,
   "metadata": {
    "collapsed": false
   },
   "outputs": [
    {
     "name": "stdout",
     "output_type": "stream",
     "text": [
      "10 9 8 7 6 5 4 3 2 1\n"
     ]
    }
   ],
   "source": [
    "for i in range(10,1-1,-1):\n",
    "    print i,"
   ]
  },
  {
   "cell_type": "markdown",
   "metadata": {},
   "source": [
    "# Problem 5"
   ]
  },
  {
   "cell_type": "code",
   "execution_count": 9,
   "metadata": {
    "collapsed": false
   },
   "outputs": [
    {
     "name": "stdout",
     "output_type": "stream",
     "text": [
      "average:  12.0\n"
     ]
    }
   ],
   "source": [
    "total = 0\n",
    "count = 0\n",
    "for i in range(2,22+1):\n",
    "    total += i\n",
    "    count +=1\n",
    "print 'average: ', float(total) / count"
   ]
  },
  {
   "cell_type": "markdown",
   "metadata": {},
   "source": [
    "# Problem 6"
   ]
  },
  {
   "cell_type": "code",
   "execution_count": 10,
   "metadata": {
    "collapsed": false
   },
   "outputs": [
    {
     "name": "stdout",
     "output_type": "stream",
     "text": [
      "[1, 2, 3, 1, 2, 2, 2, 2]\n"
     ]
    }
   ],
   "source": [
    "def remove_neg(num_list):\n",
    "    '''Remove the negative numbers from the list num_list.'''\n",
    "    i = 0\n",
    "    while(i != len(num_list)):\n",
    "        if num_list[i] < 0:\n",
    "            num_list.remove(num_list[i])\n",
    "        else:\n",
    "            i += 1\n",
    "        \n",
    "\n",
    "a = [1,2,3,-4,-3,-2,1,-3,-1,-1,-2,2,2,2,2]\n",
    "remove_neg(a)\n",
    "print a"
   ]
  },
  {
   "cell_type": "markdown",
   "metadata": {},
   "source": [
    "# Problem 7-9"
   ]
  },
  {
   "cell_type": "code",
   "execution_count": 12,
   "metadata": {
    "collapsed": false
   },
   "outputs": [
    {
     "name": "stdout",
     "output_type": "stream",
     "text": [
      "T\n",
      "TT\n",
      "TTT\n",
      "TTTT\n",
      "TTTTT\n",
      "TTTTTT\n",
      "TTTTTTT\n"
     ]
    }
   ],
   "source": [
    "import sys \n",
    "for i in range(1,7+1):\n",
    "    for j in range(1, i+1):\n",
    "        sys.stdout.write('T')\n",
    "    print"
   ]
  },
  {
   "cell_type": "code",
   "execution_count": 15,
   "metadata": {
    "collapsed": false
   },
   "outputs": [
    {
     "name": "stdout",
     "output_type": "stream",
     "text": [
      "      T\n",
      "     TT\n",
      "    TTT\n",
      "   TTTT\n",
      "  TTTTT\n",
      " TTTTTT\n",
      "TTTTTTT\n"
     ]
    }
   ],
   "source": [
    "for i in range(1,7+1):\n",
    "    for j in range(1, 8-i):\n",
    "        sys.stdout.write(' ')\n",
    "    for j in range(i):\n",
    "        sys.stdout.write('T')\n",
    "    print"
   ]
  },
  {
   "cell_type": "code",
   "execution_count": null,
   "metadata": {
    "collapsed": true
   },
   "outputs": [],
   "source": []
  }
 ],
 "metadata": {
  "kernelspec": {
   "display_name": "Python [conda root]",
   "language": "python",
   "name": "conda-root-py"
  },
  "language_info": {
   "codemirror_mode": {
    "name": "ipython",
    "version": 2
   },
   "file_extension": ".py",
   "mimetype": "text/x-python",
   "name": "python",
   "nbconvert_exporter": "python",
   "pygments_lexer": "ipython2",
   "version": "2.7.12"
  }
 },
 "nbformat": 4,
 "nbformat_minor": 1
}
