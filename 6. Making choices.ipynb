{
 "cells": [
  {
   "cell_type": "markdown",
   "metadata": {},
   "source": [
    "# Problem 1"
   ]
  },
  {
   "cell_type": "code",
   "execution_count": 9,
   "metadata": {
    "collapsed": false
   },
   "outputs": [
    {
     "name": "stdout",
     "output_type": "stream",
     "text": [
      "True\n",
      "True\n",
      "True\n",
      "True\n",
      "True\n",
      "False\n",
      "False\n"
     ]
    }
   ],
   "source": [
    "print True and not False\n",
    "print True or True and False\n",
    "print not True or not False\n",
    "print True and not 0\n",
    "print 52 < 52.3\n",
    "print 1+52<52.3\n",
    "print 4 != 4.0"
   ]
  },
  {
   "cell_type": "markdown",
   "metadata": {},
   "source": [
    "# Problem 2\n",
    "It is the rule Python actually use, in my opinion.\n",
    "Because if the first value is false, it returns false, no need to evaluate the value of 2nd value"
   ]
  },
  {
   "cell_type": "markdown",
   "metadata": {},
   "source": [
    "# Problem 3"
   ]
  },
  {
   "cell_type": "code",
   "execution_count": 14,
   "metadata": {
    "collapsed": false
   },
   "outputs": [
    {
     "data": {
      "text/plain": [
       "True"
      ]
     },
     "execution_count": 14,
     "metadata": {},
     "output_type": "execute_result"
    }
   ],
   "source": [
    "x = True\n",
    "y = True\n",
    "x and y #a\n",
    "not x   #b\n",
    "x or y  #c"
   ]
  },
  {
   "cell_type": "markdown",
   "metadata": {},
   "source": [
    "# Problem 4"
   ]
  },
  {
   "cell_type": "code",
   "execution_count": 19,
   "metadata": {
    "collapsed": false
   },
   "outputs": [
    {
     "data": {
      "text/plain": [
       "True"
      ]
     },
     "execution_count": 19,
     "metadata": {},
     "output_type": "execute_result"
    }
   ],
   "source": [
    "full = True\n",
    "empty = False\n",
    "(full and not empty) or (not full and empty)"
   ]
  },
  {
   "cell_type": "markdown",
   "metadata": {},
   "source": [
    "# Problem 5\n",
    "That friend is true. Because we can prove !=\n",
    "equivalent to the exclusive"
   ]
  },
  {
   "cell_type": "markdown",
   "metadata": {},
   "source": [
    "# Problem 6"
   ]
  },
  {
   "cell_type": "code",
   "execution_count": 22,
   "metadata": {
    "collapsed": false
   },
   "outputs": [
    {
     "name": "stdout",
     "output_type": "stream",
     "text": [
      "False\n"
     ]
    }
   ],
   "source": [
    "x=-5\n",
    "result = x == abs(x)\n",
    "print result"
   ]
  },
  {
   "cell_type": "markdown",
   "metadata": {},
   "source": [
    "# Problem 7"
   ]
  },
  {
   "cell_type": "code",
   "execution_count": 24,
   "metadata": {
    "collapsed": false
   },
   "outputs": [
    {
     "name": "stdout",
     "output_type": "stream",
     "text": [
      "False\n"
     ]
    }
   ],
   "source": [
    "def different(a, b):\n",
    "    return a!=b\n",
    "\n",
    "print different(5,5)"
   ]
  },
  {
   "cell_type": "markdown",
   "metadata": {},
   "source": [
    "# Problem 8"
   ]
  },
  {
   "cell_type": "code",
   "execution_count": 33,
   "metadata": {
    "collapsed": false
   },
   "outputs": [
    {
     "name": "stdout",
     "output_type": "stream",
     "text": [
      "Sparely populated\n"
     ]
    }
   ],
   "source": [
    "population = 1000000000\n",
    "land_area = 25000000\n",
    "if population < 10000000:\n",
    "    print population\n",
    "if 10000000 <= population <= 35000000:\n",
    "    print population\n",
    "if float(population)/land_area >=100:\n",
    "    print \"Densely populated\"\n",
    "    \n",
    "if float(population)/land_area >=100:\n",
    "    print \"Densely populated\"\n",
    "else:\n",
    "    print \"Sparely populated\""
   ]
  },
  {
   "cell_type": "markdown",
   "metadata": {},
   "source": [
    "# Problem 9"
   ]
  },
  {
   "cell_type": "code",
   "execution_count": 43,
   "metadata": {
    "collapsed": false
   },
   "outputs": [],
   "source": [
    "def convert_temperatures(t, source, target):\n",
    "    temp_celsius = convert_to_celsius(t, source) if source != \"Celsius\" else t\n",
    "    return celsius_to_others(temp_celsius, target) if target != 'Celsius' else temp_celsius\n",
    "\n",
    "def celsius_to_others(t, target):\n",
    "    # scale =[\"Fahrenheit\",\"Kelvin\", \"Rankine\", \"Delisle\", \"Newton\", \"Reaumur\",\"Romer\"]\n",
    "    if target == \"Fahrenheit\":\n",
    "        return float(t)*9/5+32\n",
    "    elif target == \"Kelvin\":\n",
    "        return float(t)+273.15\n",
    "    elif target == \"Rankine\":\n",
    "        return (float(t)+273.15)*9/5\n",
    "    elif target == \"Delisle\":\n",
    "        return (100-float(t))*3/2\n",
    "    elif target == \"Newton\":\n",
    "        return float(t)+33/100\n",
    "    elif target == \"Reaumur\":\n",
    "        return float(t)*4/5\n",
    "    elif target == \"Kelvin\":\n",
    "        return float(t)*21/40+7.5\n",
    "    elif target == \"Celsius\":\n",
    "        return t\n",
    "    print \"Wrong scale\"\n",
    "    \n",
    "def convert_to_celsius(t, source):\n",
    "    if source == \"Fahrenheit\":\n",
    "        return (float(t)-32)*5/9\n",
    "    elif source == \"Kelvin\":\n",
    "        return float(t)-273.15\n",
    "    elif source == \"Rankine\":\n",
    "        return (float(t)-491.67)*5/9\n",
    "    elif source == \"Delisle\":\n",
    "        return (100-float(t))*2/3\n",
    "    elif source == \"Newton\":\n",
    "        return float(t)+100/33\n",
    "    elif source == \"Reaumur\":\n",
    "        return float(t)*5/4\n",
    "    elif source == \"Kelvin\":\n",
    "        return (float(t)-7.5)*40/21\n",
    "    elif source == \"Celsius\":\n",
    "        return t\n",
    "    print \"Wrong scale\""
   ]
  },
  {
   "cell_type": "code",
   "execution_count": 44,
   "metadata": {
    "collapsed": false
   },
   "outputs": [
    {
     "data": {
      "text/plain": [
       "331.11"
      ]
     },
     "execution_count": 44,
     "metadata": {},
     "output_type": "execute_result"
    }
   ],
   "source": [
    "convert_temperatures(-89.2, \"Celsius\", \"Rankine\")"
   ]
  },
  {
   "cell_type": "markdown",
   "metadata": {},
   "source": [
    "# Problem 10\n",
    "Because the first condition (ph<7) will be check before the remaining condition. So the 2nd condition will not be executed. We can fix this by switch 2 conditions. Or add the conditon 3<= ph <7. Or change elif in to if (both messages appear)"
   ]
  },
  {
   "cell_type": "markdown",
   "metadata": {},
   "source": [
    "# Problem 11"
   ]
  },
  {
   "cell_type": "code",
   "execution_count": 38,
   "metadata": {
    "collapsed": false
   },
   "outputs": [
    {
     "name": "stdout",
     "output_type": "stream",
     "text": [
      "Enter the ph level: 3\n",
      "It's acidic!\n",
      "It's a strong acid!\n"
     ]
    }
   ],
   "source": [
    "ph = float(raw_input(\"Enter the ph level: \")) \n",
    "if ph < 7.0:\n",
    "    print \"It's acidic!\" \n",
    "if ph < 4.0:\n",
    "    print \"It's a strong acid!\""
   ]
  },
  {
   "cell_type": "markdown",
   "metadata": {},
   "source": [
    "Because it preserves the order of the lookup table described first. If we change condition of 2nd argument, we have to reverse order of each row in 2D-array lookup table"
   ]
  }
 ],
 "metadata": {
  "anaconda-cloud": {},
  "kernelspec": {
   "display_name": "Python [conda root]",
   "language": "python",
   "name": "conda-root-py"
  },
  "language_info": {
   "codemirror_mode": {
    "name": "ipython",
    "version": 2
   },
   "file_extension": ".py",
   "mimetype": "text/x-python",
   "name": "python",
   "nbconvert_exporter": "python",
   "pygments_lexer": "ipython2",
   "version": "2.7.12"
  }
 },
 "nbformat": 4,
 "nbformat_minor": 1
}
