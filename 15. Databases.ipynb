{
 "cells": [
  {
   "cell_type": "markdown",
   "metadata": {},
   "source": [
    "# Example 1"
   ]
  },
  {
   "cell_type": "code",
   "execution_count": 1,
   "metadata": {
    "collapsed": true
   },
   "outputs": [],
   "source": [
    "import sqlite3 as dbapi"
   ]
  },
  {
   "cell_type": "code",
   "execution_count": 2,
   "metadata": {
    "collapsed": true
   },
   "outputs": [],
   "source": [
    "con = dbapi.connect('population.db')"
   ]
  },
  {
   "cell_type": "code",
   "execution_count": 3,
   "metadata": {
    "collapsed": true
   },
   "outputs": [],
   "source": [
    "cur = con.cursor()"
   ]
  },
  {
   "cell_type": "code",
   "execution_count": 4,
   "metadata": {
    "collapsed": false
   },
   "outputs": [
    {
     "data": {
      "text/plain": [
       "<sqlite3.Cursor at 0x1035dd030>"
      ]
     },
     "execution_count": 4,
     "metadata": {},
     "output_type": "execute_result"
    }
   ],
   "source": [
    "cur.execute('CREATE TABLE PopByRegion(Region TEXT, Population INTEGER)')"
   ]
  },
  {
   "cell_type": "code",
   "execution_count": 5,
   "metadata": {
    "collapsed": false
   },
   "outputs": [
    {
     "data": {
      "text/plain": [
       "<sqlite3.Cursor at 0x1035dd030>"
      ]
     },
     "execution_count": 5,
     "metadata": {},
     "output_type": "execute_result"
    }
   ],
   "source": [
    "cur.execute('INSERT INTO PopByRegion VALUES(\"Central Africa\", 330993)')"
   ]
  },
  {
   "cell_type": "code",
   "execution_count": 6,
   "metadata": {
    "collapsed": false
   },
   "outputs": [
    {
     "data": {
      "text/plain": [
       "<sqlite3.Cursor at 0x1035dd030>"
      ]
     },
     "execution_count": 6,
     "metadata": {},
     "output_type": "execute_result"
    }
   ],
   "source": [
    "cur.execute('INSERT INTO PopByRegion VALUES(\"Southeastern Africa\", 743112)' )"
   ]
  },
  {
   "cell_type": "code",
   "execution_count": 7,
   "metadata": {
    "collapsed": false
   },
   "outputs": [
    {
     "data": {
      "text/plain": [
       "<sqlite3.Cursor at 0x1035dd030>"
      ]
     },
     "execution_count": 7,
     "metadata": {},
     "output_type": "execute_result"
    }
   ],
   "source": [
    "cur.execute('INSERT INTO PopByRegion VALUES(\"Japan\", 100562)')"
   ]
  },
  {
   "cell_type": "code",
   "execution_count": 8,
   "metadata": {
    "collapsed": true
   },
   "outputs": [],
   "source": [
    "con.commit()"
   ]
  },
  {
   "cell_type": "code",
   "execution_count": 9,
   "metadata": {
    "collapsed": false
   },
   "outputs": [
    {
     "data": {
      "text/plain": [
       "<sqlite3.Cursor at 0x1035dd030>"
      ]
     },
     "execution_count": 9,
     "metadata": {},
     "output_type": "execute_result"
    }
   ],
   "source": [
    "cur.execute('SELECT Region, Population FROM PopByRegion')"
   ]
  },
  {
   "cell_type": "code",
   "execution_count": 10,
   "metadata": {
    "collapsed": false
   },
   "outputs": [
    {
     "name": "stdout",
     "output_type": "stream",
     "text": [
      "(u'Central Africa', 330993)\n"
     ]
    }
   ],
   "source": [
    "print cur.fetchone()"
   ]
  },
  {
   "cell_type": "code",
   "execution_count": 11,
   "metadata": {
    "collapsed": true
   },
   "outputs": [],
   "source": [
    "con.text_factory = str"
   ]
  },
  {
   "cell_type": "code",
   "execution_count": 12,
   "metadata": {
    "collapsed": false
   },
   "outputs": [
    {
     "name": "stdout",
     "output_type": "stream",
     "text": [
      "(u'Southeastern Africa', 743112)\n"
     ]
    }
   ],
   "source": [
    "print cur.fetchone()"
   ]
  },
  {
   "cell_type": "code",
   "execution_count": 13,
   "metadata": {
    "collapsed": false
   },
   "outputs": [
    {
     "name": "stdout",
     "output_type": "stream",
     "text": [
      "[('Japan', 100562)]\n"
     ]
    }
   ],
   "source": [
    "print cur.fetchall()"
   ]
  },
  {
   "cell_type": "code",
   "execution_count": 14,
   "metadata": {
    "collapsed": false
   },
   "outputs": [
    {
     "data": {
      "text/plain": [
       "<sqlite3.Cursor at 0x1035dd030>"
      ]
     },
     "execution_count": 14,
     "metadata": {},
     "output_type": "execute_result"
    }
   ],
   "source": [
    "cur.execute('SELECT Region, Population FROM PopByRegion ORDER BY Region')"
   ]
  },
  {
   "cell_type": "code",
   "execution_count": 15,
   "metadata": {
    "collapsed": false
   },
   "outputs": [
    {
     "data": {
      "text/plain": [
       "[('Central Africa', 330993),\n",
       " ('Japan', 100562),\n",
       " ('Southeastern Africa', 743112)]"
      ]
     },
     "execution_count": 15,
     "metadata": {},
     "output_type": "execute_result"
    }
   ],
   "source": [
    "cur.fetchall()"
   ]
  },
  {
   "cell_type": "code",
   "execution_count": 16,
   "metadata": {
    "collapsed": false
   },
   "outputs": [
    {
     "data": {
      "text/plain": [
       "<sqlite3.Cursor at 0x1035dd030>"
      ]
     },
     "execution_count": 16,
     "metadata": {},
     "output_type": "execute_result"
    }
   ],
   "source": [
    "cur.execute('SELECT Region, Population FROM PopByRegion ORDER BY Region DESC')"
   ]
  },
  {
   "cell_type": "code",
   "execution_count": 17,
   "metadata": {
    "collapsed": false
   },
   "outputs": [
    {
     "name": "stdout",
     "output_type": "stream",
     "text": [
      "[('Southeastern Africa', 743112), ('Japan', 100562), ('Central Africa', 330993)]\n"
     ]
    }
   ],
   "source": [
    "print cur.fetchall()"
   ]
  },
  {
   "cell_type": "code",
   "execution_count": 18,
   "metadata": {
    "collapsed": false
   },
   "outputs": [
    {
     "data": {
      "text/plain": [
       "<sqlite3.Cursor at 0x1035dd030>"
      ]
     },
     "execution_count": 18,
     "metadata": {},
     "output_type": "execute_result"
    }
   ],
   "source": [
    "cur.execute('UPDATE PopByRegion SET Population =100600 WHERE Region=\"Japan\"')"
   ]
  },
  {
   "cell_type": "code",
   "execution_count": 19,
   "metadata": {
    "collapsed": false
   },
   "outputs": [
    {
     "data": {
      "text/plain": [
       "<sqlite3.Cursor at 0x1035dd030>"
      ]
     },
     "execution_count": 19,
     "metadata": {},
     "output_type": "execute_result"
    }
   ],
   "source": [
    "cur.execute('SELECT * FROM PopByRegion WHERE Region = \"Japan\"')"
   ]
  },
  {
   "cell_type": "code",
   "execution_count": 20,
   "metadata": {
    "collapsed": false
   },
   "outputs": [
    {
     "data": {
      "text/plain": [
       "[('Japan', 100600)]"
      ]
     },
     "execution_count": 20,
     "metadata": {},
     "output_type": "execute_result"
    }
   ],
   "source": [
    "cur.fetchall()"
   ]
  },
  {
   "cell_type": "code",
   "execution_count": 21,
   "metadata": {
    "collapsed": false
   },
   "outputs": [
    {
     "data": {
      "text/plain": [
       "<sqlite3.Cursor at 0x1035dd030>"
      ]
     },
     "execution_count": 21,
     "metadata": {},
     "output_type": "execute_result"
    }
   ],
   "source": [
    "cur.execute('INSERT INTO PopByRegion VALUES (\"Mars\", NULL)')"
   ]
  },
  {
   "cell_type": "markdown",
   "metadata": {},
   "source": [
    "# Example 2"
   ]
  },
  {
   "cell_type": "code",
   "execution_count": 22,
   "metadata": {
    "collapsed": false
   },
   "outputs": [
    {
     "data": {
      "text/plain": [
       "<sqlite3.Cursor at 0x1035dd030>"
      ]
     },
     "execution_count": 22,
     "metadata": {},
     "output_type": "execute_result"
    }
   ],
   "source": [
    "cur.execute('CREATE TABLE PopByCountry(Region TEXT, Country TEXT, Population INTEGER)')"
   ]
  },
  {
   "cell_type": "code",
   "execution_count": 23,
   "metadata": {
    "collapsed": false
   },
   "outputs": [
    {
     "data": {
      "text/plain": [
       "<sqlite3.Cursor at 0x1035dd030>"
      ]
     },
     "execution_count": 23,
     "metadata": {},
     "output_type": "execute_result"
    }
   ],
   "source": [
    "cur.execute('INSERT INTO PopByCountry VALUES(\"Eastern Asia\", \"China\",1285238)')"
   ]
  },
  {
   "cell_type": "code",
   "execution_count": 24,
   "metadata": {
    "collapsed": false
   },
   "outputs": [],
   "source": [
    "countries = [(\"Eastern Asia\", \"DPR Korea\", 24056), (\"Eastern Asia\", \"Hong Kong (China)\", 8764), (\"Eastern Asia\", \"Mongolia\", 3407), (\"Eastern Asia\", \"Republic of Korea\", 41491), (\"Eastern Asia\", \"Taiwan\", 1433), (\"North America\", \"Bahamas\", 368), (\"North America\", \"Canada\", 40876), (\"North America\", \"Greenland\", 43), (\"North America\", \"Mexico\", 126875), (\"North America\", \"United States\", 493038)]"
   ]
  },
  {
   "cell_type": "code",
   "execution_count": 25,
   "metadata": {
    "collapsed": true
   },
   "outputs": [],
   "source": [
    "for c in countries:\n",
    "    cur.execute('INSERT INTO PopByCountry VALUES(?,?,?)', (c[0], c[1], c[2]))"
   ]
  },
  {
   "cell_type": "code",
   "execution_count": 26,
   "metadata": {
    "collapsed": true
   },
   "outputs": [],
   "source": [
    "con.commit()"
   ]
  },
  {
   "cell_type": "markdown",
   "metadata": {},
   "source": [
    "# Problem 1"
   ]
  },
  {
   "cell_type": "code",
   "execution_count": 27,
   "metadata": {
    "collapsed": true
   },
   "outputs": [],
   "source": [
    "import sqlite3 as dbapi\n",
    "\n",
    "con = dbapi.connect('census.db')\n",
    "cur = con.cursor()"
   ]
  },
  {
   "cell_type": "code",
   "execution_count": 28,
   "metadata": {
    "collapsed": false
   },
   "outputs": [
    {
     "data": {
      "text/plain": [
       "<sqlite3.Cursor at 0x1035dd180>"
      ]
     },
     "execution_count": 28,
     "metadata": {},
     "output_type": "execute_result"
    }
   ],
   "source": [
    "cur.execute('CREATE TABLE Density(Name TEXT, Pop INTEGER, Area REAL)')"
   ]
  },
  {
   "cell_type": "code",
   "execution_count": 29,
   "metadata": {
    "collapsed": false
   },
   "outputs": [
    {
     "data": {
      "text/plain": [
       "<sqlite3.Cursor at 0x1035dd180>"
      ]
     },
     "execution_count": 29,
     "metadata": {},
     "output_type": "execute_result"
    }
   ],
   "source": [
    "cur.execute('INSERT INTO Density Values(\"Newfoundland and Labrador\",512930,370501.69)')\n",
    "cur.execute('INSERT INTO Density Values(\"Prince Edward Island\",135294,5684.39)')\n",
    "cur.execute('INSERT INTO Density Values(\"Nova Scotia\", 908007,52917.43)')\n",
    "cur.execute('INSERT INTO Density Values(\"New Brunswick\", 729498, 71355.67)')\n",
    "cur.execute('INSERT INTO Density Values(\"Quebec\", 7237479, 1357743.08)')\n",
    "cur.execute('INSERT INTO Density Values(\"Ontario\", 11410046, 907655.59)')\n",
    "cur.execute('INSERT INTO Density Values(\"Manitoba\", 1119583, 551937.87)')\n",
    "cur.execute('INSERT INTO Density Values(\"Saskatchewan\", 978933, 586561.35)')\n",
    "cur.execute('INSERT INTO Density Values(\"Alberta\", 2974807, 639987.12)')\n",
    "cur.execute('INSERT INTO Density Values(\"British Columbia\", 3907738, 926492.48)')\n",
    "cur.execute('INSERT INTO Density Values(\"Yukon Territory\", 28674, 474706.97)')\n",
    "cur.execute('INSERT INTO Density Values(\"Northwest Territories\", 37360, 1141108.37)')\n",
    "cur.execute('INSERT INTO Density Values(\"Nunavut\", 26745, 1925460.18)')\n",
    "con.commit()"
   ]
  },
  {
   "cell_type": "code",
   "execution_count": 30,
   "metadata": {
    "collapsed": false
   },
   "outputs": [
    {
     "data": {
      "text/plain": [
       "[(u'Newfoundland and Labrador', 512930, 370501.69),\n",
       " (u'Prince Edward Island', 135294, 5684.39),\n",
       " (u'Nova Scotia', 908007, 52917.43),\n",
       " (u'New Brunswick', 729498, 71355.67),\n",
       " (u'Quebec', 7237479, 1357743.08),\n",
       " (u'Ontario', 11410046, 907655.59),\n",
       " (u'Manitoba', 1119583, 551937.87),\n",
       " (u'Saskatchewan', 978933, 586561.35),\n",
       " (u'Alberta', 2974807, 639987.12),\n",
       " (u'British Columbia', 3907738, 926492.48),\n",
       " (u'Yukon Territory', 28674, 474706.97),\n",
       " (u'Northwest Territories', 37360, 1141108.37),\n",
       " (u'Nunavut', 26745, 1925460.18)]"
      ]
     },
     "execution_count": 30,
     "metadata": {},
     "output_type": "execute_result"
    }
   ],
   "source": [
    "cur.execute('SELECT * FROM Density')\n",
    "cur.fetchall()"
   ]
  },
  {
   "cell_type": "code",
   "execution_count": 31,
   "metadata": {
    "collapsed": false
   },
   "outputs": [
    {
     "data": {
      "text/plain": [
       "[(512930,),\n",
       " (135294,),\n",
       " (908007,),\n",
       " (729498,),\n",
       " (7237479,),\n",
       " (11410046,),\n",
       " (1119583,),\n",
       " (978933,),\n",
       " (2974807,),\n",
       " (3907738,),\n",
       " (28674,),\n",
       " (37360,),\n",
       " (26745,)]"
      ]
     },
     "execution_count": 31,
     "metadata": {},
     "output_type": "execute_result"
    }
   ],
   "source": [
    "cur.execute('SELECT Pop FROM Density')\n",
    "cur.fetchall()"
   ]
  },
  {
   "cell_type": "code",
   "execution_count": 32,
   "metadata": {
    "collapsed": false
   },
   "outputs": [
    {
     "data": {
      "text/plain": [
       "[(u'Newfoundland and Labrador',),\n",
       " (u'Prince Edward Island',),\n",
       " (u'Nova Scotia',),\n",
       " (u'New Brunswick',),\n",
       " (u'Saskatchewan',),\n",
       " (u'Yukon Territory',),\n",
       " (u'Northwest Territories',),\n",
       " (u'Nunavut',)]"
      ]
     },
     "execution_count": 32,
     "metadata": {},
     "output_type": "execute_result"
    }
   ],
   "source": [
    "cur.execute('SELECT Name FROM Density WHERE Pop <1000000')\n",
    "cur.fetchall()"
   ]
  },
  {
   "cell_type": "code",
   "execution_count": 33,
   "metadata": {
    "collapsed": false
   },
   "outputs": [
    {
     "data": {
      "text/plain": [
       "[(u'Newfoundland and Labrador',),\n",
       " (u'Prince Edward Island',),\n",
       " (u'Nova Scotia',),\n",
       " (u'New Brunswick',),\n",
       " (u'Quebec',),\n",
       " (u'Ontario',),\n",
       " (u'Saskatchewan',),\n",
       " (u'Yukon Territory',),\n",
       " (u'Northwest Territories',),\n",
       " (u'Nunavut',)]"
      ]
     },
     "execution_count": 33,
     "metadata": {},
     "output_type": "execute_result"
    }
   ],
   "source": [
    "cur.execute('SELECT Name FROM Density WHERE Pop <1000000 OR Pop >5000000')\n",
    "cur.fetchall()"
   ]
  },
  {
   "cell_type": "code",
   "execution_count": 34,
   "metadata": {
    "collapsed": false
   },
   "outputs": [
    {
     "data": {
      "text/plain": [
       "[(u'Manitoba',), (u'Alberta',), (u'British Columbia',)]"
      ]
     },
     "execution_count": 34,
     "metadata": {},
     "output_type": "execute_result"
    }
   ],
   "source": [
    "cur.execute('SELECT Name FROM Density WHERE not (Pop <1000000 OR Pop >5000000)')\n",
    "cur.fetchall()"
   ]
  },
  {
   "cell_type": "code",
   "execution_count": 35,
   "metadata": {
    "collapsed": false
   },
   "outputs": [
    {
     "data": {
      "text/plain": [
       "[(512930,),\n",
       " (7237479,),\n",
       " (11410046,),\n",
       " (1119583,),\n",
       " (978933,),\n",
       " (2974807,),\n",
       " (3907738,),\n",
       " (28674,),\n",
       " (37360,),\n",
       " (26745,)]"
      ]
     },
     "execution_count": 35,
     "metadata": {},
     "output_type": "execute_result"
    }
   ],
   "source": [
    "cur.execute('SELECT Pop FROM Density WHERE  Area >200000')\n",
    "cur.fetchall()"
   ]
  },
  {
   "cell_type": "code",
   "execution_count": 47,
   "metadata": {
    "collapsed": false
   },
   "outputs": [
    {
     "data": {
      "text/plain": [
       "[(u'Newfoundland and Labrador', 1.384420135843375),\n",
       " (u'Prince Edward Island', 23.8009707286094),\n",
       " (u'Nova Scotia', 17.15893988048928),\n",
       " (u'New Brunswick', 10.223406212848959),\n",
       " (u'Quebec', 5.330521736115201),\n",
       " (u'Ontario', 12.570898175154742),\n",
       " (u'Manitoba', 2.0284583842743027),\n",
       " (u'Saskatchewan', 1.6689353978062142),\n",
       " (u'Alberta', 4.648229483118348),\n",
       " (u'British Columbia', 4.217776273802028),\n",
       " (u'Yukon Territory', 0.060403579075318826),\n",
       " (u'Northwest Territories', 0.03274009812056676),\n",
       " (u'Nunavut', 0.013890185981410428)]"
      ]
     },
     "execution_count": 47,
     "metadata": {},
     "output_type": "execute_result"
    }
   ],
   "source": [
    "cur.execute('SELECT Name, Pop/Area FROM Density')\n",
    "cur.fetchall()"
   ]
  },
  {
   "cell_type": "markdown",
   "metadata": {},
   "source": [
    "# Problem 2"
   ]
  },
  {
   "cell_type": "code",
   "execution_count": 37,
   "metadata": {
    "collapsed": false
   },
   "outputs": [
    {
     "data": {
      "text/plain": [
       "<sqlite3.Cursor at 0x1035dd180>"
      ]
     },
     "execution_count": 37,
     "metadata": {},
     "output_type": "execute_result"
    }
   ],
   "source": [
    "cur.execute('CREATE TABLE Capitals(Name TEXT, Cap TEXT, Pop INTEGER)')"
   ]
  },
  {
   "cell_type": "code",
   "execution_count": 38,
   "metadata": {
    "collapsed": false
   },
   "outputs": [
    {
     "data": {
      "text/plain": [
       "<sqlite3.Cursor at 0x1035dd180>"
      ]
     },
     "execution_count": 38,
     "metadata": {},
     "output_type": "execute_result"
    }
   ],
   "source": [
    "cur.execute('INSERT INTO Capitals Values(\"Newfoundland and Labrador\", \"St. John’s\", 172918)')\n",
    "cur.execute('INSERT INTO Capitals Values(\"Prince Edward Island\", \"Charlottetown\", 58358)')\n",
    "cur.execute('INSERT INTO Capitals Values(\"Nova Scotia\", \"Halifax\", 359183)')\n",
    "cur.execute('INSERT INTO Capitals Values(\"New Brunswick\", \"Fredericton\", 81346)')\n",
    "cur.execute('INSERT INTO Capitals Values(\"Quebec\", \"Quebec\", 682757)')\n",
    "cur.execute('INSERT INTO Capitals Values(\"Ontario\", \"Toronto\", 4682897)')\n",
    "cur.execute('INSERT INTO Capitals Values(\"Manitoba\", \"Winnipeg\", 671274)')\n",
    "cur.execute('INSERT INTO Capitals Values(\"Saskatchewan\", \"Regina\", 192800)')\n",
    "cur.execute('INSERT INTO Capitals Values(\"Alberta\", \"Edmonton\", 937845)')\n",
    "cur.execute('INSERT INTO Capitals Values(\"British Columbia\", \"Victoria\", 311902)')\n",
    "cur.execute('INSERT INTO Capitals Values(\"Yukon Territory\", \"Whitehorse\", 21405)')\n",
    "cur.execute('INSERT INTO Capitals Values(\"Northwest Territories\", \"Yellowknife\", 16541)')\n",
    "cur.execute('INSERT INTO Capitals Values(\"Nunavut\", \"Iqaluit\", 5236)')"
   ]
  },
  {
   "cell_type": "code",
   "execution_count": 39,
   "metadata": {
    "collapsed": false
   },
   "outputs": [
    {
     "data": {
      "text/plain": [
       "<sqlite3.Cursor at 0x1035dd180>"
      ]
     },
     "execution_count": 39,
     "metadata": {},
     "output_type": "execute_result"
    }
   ],
   "source": [
    "cur.execute('SELECT * FROM Capitals')"
   ]
  },
  {
   "cell_type": "code",
   "execution_count": 40,
   "metadata": {
    "collapsed": false
   },
   "outputs": [
    {
     "data": {
      "text/plain": [
       "[(u'Newfoundland and Labrador', u'St. John\\u2019s', 172918),\n",
       " (u'Prince Edward Island', u'Charlottetown', 58358),\n",
       " (u'Nova Scotia', u'Halifax', 359183),\n",
       " (u'New Brunswick', u'Fredericton', 81346),\n",
       " (u'Quebec', u'Quebec', 682757),\n",
       " (u'Ontario', u'Toronto', 4682897),\n",
       " (u'Manitoba', u'Winnipeg', 671274),\n",
       " (u'Saskatchewan', u'Regina', 192800),\n",
       " (u'Alberta', u'Edmonton', 937845),\n",
       " (u'British Columbia', u'Victoria', 311902),\n",
       " (u'Yukon Territory', u'Whitehorse', 21405),\n",
       " (u'Northwest Territories', u'Yellowknife', 16541),\n",
       " (u'Nunavut', u'Iqaluit', 5236)]"
      ]
     },
     "execution_count": 40,
     "metadata": {},
     "output_type": "execute_result"
    }
   ],
   "source": [
    "cur.fetchall()"
   ]
  },
  {
   "cell_type": "code",
   "execution_count": 44,
   "metadata": {
    "collapsed": false
   },
   "outputs": [
    {
     "data": {
      "text/plain": [
       "[(512930, 172918),\n",
       " (135294, 58358),\n",
       " (908007, 359183),\n",
       " (729498, 81346),\n",
       " (7237479, 682757),\n",
       " (11410046, 4682897),\n",
       " (1119583, 671274),\n",
       " (978933, 192800),\n",
       " (2974807, 937845),\n",
       " (3907738, 311902),\n",
       " (28674, 21405),\n",
       " (37360, 16541),\n",
       " (26745, 5236)]"
      ]
     },
     "execution_count": 44,
     "metadata": {},
     "output_type": "execute_result"
    }
   ],
   "source": [
    "cur.execute('SELECT Density.Pop, Capitals.Pop FROM Density INNER JOIN Capitals WHERE Density.Name = Capitals.Name')\n",
    "cur.fetchall()"
   ]
  },
  {
   "cell_type": "code",
   "execution_count": 45,
   "metadata": {
    "collapsed": false
   },
   "outputs": [
    {
     "data": {
      "text/plain": [
       "[(370501.69,),\n",
       " (52917.43,),\n",
       " (1357743.08,),\n",
       " (907655.59,),\n",
       " (551937.87,),\n",
       " (586561.35,),\n",
       " (639987.12,),\n",
       " (926492.48,)]"
      ]
     },
     "execution_count": 45,
     "metadata": {},
     "output_type": "execute_result"
    }
   ],
   "source": [
    "cur.execute('SELECT Density.Area FROM Density INNER JOIN Capitals WHERE Density.Name = Capitals.Name and Capitals.Pop >100000')\n",
    "cur.fetchall()"
   ]
  },
  {
   "cell_type": "code",
   "execution_count": 48,
   "metadata": {
    "collapsed": false
   },
   "outputs": [
    {
     "data": {
      "text/plain": [
       "[]"
      ]
     },
     "execution_count": 48,
     "metadata": {},
     "output_type": "execute_result"
    }
   ],
   "source": [
    "cur.execute('''SELECT Density.Name FROM Density INNER JOIN Capitals \n",
    "WHERE Density.Name = Capitals.Name and Capitals.Pop >500000 and Density.Pop/Density.Area <2''')\n",
    "cur.fetchall()"
   ]
  },
  {
   "cell_type": "code",
   "execution_count": 51,
   "metadata": {
    "collapsed": false
   },
   "outputs": [
    {
     "data": {
      "text/plain": [
       "[(9012112.19,)]"
      ]
     },
     "execution_count": 51,
     "metadata": {},
     "output_type": "execute_result"
    }
   ],
   "source": [
    "cur.execute('SELECT sum(Area) FROM Density')\n",
    "cur.fetchall()"
   ]
  },
  {
   "cell_type": "code",
   "execution_count": 52,
   "metadata": {
    "collapsed": false
   },
   "outputs": [
    {
     "data": {
      "text/plain": [
       "[(630343.2307692308,)]"
      ]
     },
     "execution_count": 52,
     "metadata": {},
     "output_type": "execute_result"
    }
   ],
   "source": [
    "cur.execute('SELECT AVG(Pop) FROM Capitals')\n",
    "cur.fetchall()"
   ]
  },
  {
   "cell_type": "code",
   "execution_count": 56,
   "metadata": {
    "collapsed": false
   },
   "outputs": [
    {
     "data": {
      "text/plain": [
       "(5236,)"
      ]
     },
     "execution_count": 56,
     "metadata": {},
     "output_type": "execute_result"
    }
   ],
   "source": [
    "cur.execute('SELECT Pop FROM Capitals ORDER BY Pop ASC')\n",
    "cur.fetchall()[0]"
   ]
  },
  {
   "cell_type": "code",
   "execution_count": 58,
   "metadata": {
    "collapsed": false
   },
   "outputs": [
    {
     "data": {
      "text/plain": [
       "(4682897,)"
      ]
     },
     "execution_count": 58,
     "metadata": {},
     "output_type": "execute_result"
    }
   ],
   "source": [
    "cur.execute('SELECT Pop FROM Capitals ORDER BY Pop DESC')\n",
    "cur.fetchall()[0]"
   ]
  },
  {
   "cell_type": "code",
   "execution_count": 59,
   "metadata": {
    "collapsed": false
   },
   "outputs": [
    {
     "data": {
      "text/plain": [
       "(11410046,)"
      ]
     },
     "execution_count": 59,
     "metadata": {},
     "output_type": "execute_result"
    }
   ],
   "source": [
    "cur.execute('SELECT Pop FROM Density ORDER BY Pop DESC')\n",
    "cur.fetchall()[0]"
   ]
  },
  {
   "cell_type": "code",
   "execution_count": 63,
   "metadata": {
    "collapsed": false
   },
   "outputs": [
    {
     "data": {
      "text/plain": [
       "(u'Newfoundland and Labrador', u'Prince Edward Island')"
      ]
     },
     "execution_count": 63,
     "metadata": {},
     "output_type": "execute_result"
    }
   ],
   "source": [
    "cur.execute('''SELECT A.Name, B.Name FROM Density A INNER JOIN Density B \n",
    "WHERE A.Pop/A.Area <= B.Pop/B.Area*0.5''')\n",
    "cur.fetchall()[0]"
   ]
  },
  {
   "cell_type": "markdown",
   "metadata": {},
   "source": [
    "# Problem 3"
   ]
  },
  {
   "cell_type": "code",
   "execution_count": 64,
   "metadata": {
    "collapsed": false
   },
   "outputs": [
    {
     "ename": "OperationalError",
     "evalue": "table Numbers already exists",
     "output_type": "error",
     "traceback": [
      "\u001b[0;31m---------------------------------------------------------------------------\u001b[0m",
      "\u001b[0;31mOperationalError\u001b[0m                          Traceback (most recent call last)",
      "\u001b[0;32m<ipython-input-64-6eb5dfa90586>\u001b[0m in \u001b[0;36m<module>\u001b[0;34m()\u001b[0m\n\u001b[1;32m      2\u001b[0m \u001b[0mcur\u001b[0m \u001b[0;34m=\u001b[0m \u001b[0mcon\u001b[0m\u001b[0;34m.\u001b[0m\u001b[0mcursor\u001b[0m\u001b[0;34m(\u001b[0m\u001b[0;34m)\u001b[0m\u001b[0;34m\u001b[0m\u001b[0m\n\u001b[1;32m      3\u001b[0m \u001b[0;34m\u001b[0m\u001b[0m\n\u001b[0;32m----> 4\u001b[0;31m \u001b[0mcur\u001b[0m\u001b[0;34m.\u001b[0m\u001b[0mexecute\u001b[0m\u001b[0;34m(\u001b[0m\u001b[0;34m'CREATE TABLE Numbers(Val INTEGER)'\u001b[0m\u001b[0;34m)\u001b[0m\u001b[0;34m\u001b[0m\u001b[0m\n\u001b[0m\u001b[1;32m      5\u001b[0m \u001b[0mcur\u001b[0m\u001b[0;34m.\u001b[0m\u001b[0mexecute\u001b[0m\u001b[0;34m(\u001b[0m\u001b[0;34m'INSERT INTO Numbers Values(1)'\u001b[0m\u001b[0;34m)\u001b[0m\u001b[0;34m\u001b[0m\u001b[0m\n\u001b[1;32m      6\u001b[0m \u001b[0mcur\u001b[0m\u001b[0;34m.\u001b[0m\u001b[0mexecute\u001b[0m\u001b[0;34m(\u001b[0m\u001b[0;34m'INSERT INTO Numbers Values(2)'\u001b[0m\u001b[0;34m)\u001b[0m\u001b[0;34m\u001b[0m\u001b[0m\n",
      "\u001b[0;31mOperationalError\u001b[0m: table Numbers already exists"
     ]
    }
   ],
   "source": [
    "con = dbapi.connect('pro3.db')\n",
    "cur = con.cursor()\n",
    "\n",
    "cur.execute('CREATE TABLE Numbers(Val INTEGER)')\n",
    "cur.execute('INSERT INTO Numbers Values(1)')\n",
    "cur.execute('INSERT INTO Numbers Values(2)')"
   ]
  },
  {
   "cell_type": "code",
   "execution_count": 65,
   "metadata": {
    "collapsed": false
   },
   "outputs": [
    {
     "data": {
      "text/plain": [
       "<sqlite3.Cursor at 0x1035ddb90>"
      ]
     },
     "execution_count": 65,
     "metadata": {},
     "output_type": "execute_result"
    }
   ],
   "source": [
    "cur.execute('SELECT * FROM Numbers WHERE 1/0')"
   ]
  },
  {
   "cell_type": "code",
   "execution_count": 66,
   "metadata": {
    "collapsed": false
   },
   "outputs": [
    {
     "data": {
      "text/plain": [
       "[]"
      ]
     },
     "execution_count": 66,
     "metadata": {},
     "output_type": "execute_result"
    }
   ],
   "source": [
    "cur.fetchall()"
   ]
  },
  {
   "cell_type": "code",
   "execution_count": 67,
   "metadata": {
    "collapsed": false
   },
   "outputs": [
    {
     "data": {
      "text/plain": [
       "<sqlite3.Cursor at 0x1035ddb90>"
      ]
     },
     "execution_count": 67,
     "metadata": {},
     "output_type": "execute_result"
    }
   ],
   "source": [
    "cur.execute('SELECT * FROM Numbers WHERE 1/0 AND Val > 0')"
   ]
  },
  {
   "cell_type": "code",
   "execution_count": 68,
   "metadata": {
    "collapsed": false
   },
   "outputs": [
    {
     "data": {
      "text/plain": [
       "<sqlite3.Cursor at 0x1035ddb90>"
      ]
     },
     "execution_count": 68,
     "metadata": {},
     "output_type": "execute_result"
    }
   ],
   "source": [
    "cur.execute('SELECT * FROM Numbers WHERE Val > 0 AND 1/0')"
   ]
  },
  {
   "cell_type": "markdown",
   "metadata": {},
   "source": [
    "SELECT statement return blank result, Python notify an error. Because SQL just doesn't find the data, it doesn't need to produce an error."
   ]
  },
  {
   "cell_type": "markdown",
   "metadata": {},
   "source": [
    "# Problem 4"
   ]
  },
  {
   "cell_type": "code",
   "execution_count": 69,
   "metadata": {
    "collapsed": true
   },
   "outputs": [],
   "source": [
    "def run_query(db, query, value=None):\n",
    "    '''Return the results of running the given query on database db.'''\n",
    "    con = dbapi.connect(db)\n",
    "    cur = con.cursor()\n",
    "    if not value:\n",
    "        cur.execute(query)\n",
    "    else:\n",
    "        cur.execute(query, value)\n",
    "    data = cur.fetchall()\n",
    "    cur.close()\n",
    "    con.close()\n",
    "    return data"
   ]
  },
  {
   "cell_type": "code",
   "execution_count": 70,
   "metadata": {
    "collapsed": false
   },
   "outputs": [
    {
     "data": {
      "text/plain": [
       "[(u'Japan', 100600)]"
      ]
     },
     "execution_count": 70,
     "metadata": {},
     "output_type": "execute_result"
    }
   ],
   "source": [
    "run_query('population.db', 'SELECT * FROM PopByRegion WHERE Region =(?)', (\"Japan\",))"
   ]
  },
  {
   "cell_type": "code",
   "execution_count": 71,
   "metadata": {
    "collapsed": false
   },
   "outputs": [
    {
     "data": {
      "text/plain": [
       "[(u'Central Africa', 330993),\n",
       " (u'Southeastern Africa', 743112),\n",
       " (u'Japan', 100600),\n",
       " (u'Mars', None)]"
      ]
     },
     "execution_count": 71,
     "metadata": {},
     "output_type": "execute_result"
    }
   ],
   "source": [
    "run_query('population.db', 'SELECT * FROM PopByRegion')"
   ]
  },
  {
   "cell_type": "code",
   "execution_count": null,
   "metadata": {
    "collapsed": true
   },
   "outputs": [],
   "source": []
  }
 ],
 "metadata": {
  "anaconda-cloud": {},
  "kernelspec": {
   "display_name": "Python [conda root]",
   "language": "python",
   "name": "conda-root-py"
  },
  "language_info": {
   "codemirror_mode": {
    "name": "ipython",
    "version": 2
   },
   "file_extension": ".py",
   "mimetype": "text/x-python",
   "name": "python",
   "nbconvert_exporter": "python",
   "pygments_lexer": "ipython2",
   "version": "2.7.12"
  }
 },
 "nbformat": 4,
 "nbformat_minor": 0
}
