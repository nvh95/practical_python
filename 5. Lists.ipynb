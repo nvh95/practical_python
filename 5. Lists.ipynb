{
 "cells": [
  {
   "cell_type": "markdown",
   "metadata": {},
   "source": [
    "# Problem 1-4"
   ]
  },
  {
   "cell_type": "code",
   "execution_count": 1,
   "metadata": {
    "collapsed": false
   },
   "outputs": [],
   "source": [
    "alkaline_earth_metals = [4, 12, 20, 38, 56, 88]\n",
    "# index of Radium's atomic number is 5 or -1"
   ]
  },
  {
   "cell_type": "code",
   "execution_count": 2,
   "metadata": {
    "collapsed": false
   },
   "outputs": [
    {
     "data": {
      "text/plain": [
       "6"
      ]
     },
     "execution_count": 2,
     "metadata": {},
     "output_type": "execute_result"
    }
   ],
   "source": [
    "len(alkaline_earth_metals)"
   ]
  },
  {
   "cell_type": "code",
   "execution_count": 3,
   "metadata": {
    "collapsed": false
   },
   "outputs": [
    {
     "data": {
      "text/plain": [
       "88"
      ]
     },
     "execution_count": 3,
     "metadata": {},
     "output_type": "execute_result"
    }
   ],
   "source": [
    "max(alkaline_earth_metals)"
   ]
  },
  {
   "cell_type": "markdown",
   "metadata": {},
   "source": [
    "# Problem 5\n",
    "print 'a', doesn't insert a new line"
   ]
  },
  {
   "cell_type": "markdown",
   "metadata": {},
   "source": [
    "# Problem 6-7"
   ]
  },
  {
   "cell_type": "code",
   "execution_count": 4,
   "metadata": {
    "collapsed": false
   },
   "outputs": [
    {
     "name": "stdout",
     "output_type": "stream",
     "text": [
      "1\n",
      "2\n",
      "3\n",
      "4\n",
      "5\n",
      "6\n",
      "7\n",
      "8\n",
      "9\n",
      "1 2 3 4 5 6 7 8 9\n"
     ]
    }
   ],
   "source": [
    "half_lives = [1, 2, 3, 4, 5, 6, 7, 8, 9]\n",
    "for value in half_lives:\n",
    "    print value\n",
    "    \n",
    "for value in half_lives:\n",
    "    print value,"
   ]
  },
  {
   "cell_type": "markdown",
   "metadata": {},
   "source": [
    "# Problem 8"
   ]
  },
  {
   "cell_type": "code",
   "execution_count": 5,
   "metadata": {
    "collapsed": true
   },
   "outputs": [],
   "source": [
    "country_populations = [1295, 23, 7, 3, 47, 21]"
   ]
  },
  {
   "cell_type": "code",
   "execution_count": 6,
   "metadata": {
    "collapsed": false
   },
   "outputs": [
    {
     "name": "stdout",
     "output_type": "stream",
     "text": [
      "1396\n"
     ]
    }
   ],
   "source": [
    "total = 0\n",
    "for country_population in country_populations:\n",
    "    total += country_population\n",
    "print total"
   ]
  },
  {
   "cell_type": "markdown",
   "metadata": {},
   "source": [
    "# Problem 9-13"
   ]
  },
  {
   "cell_type": "code",
   "execution_count": 7,
   "metadata": {
    "collapsed": true
   },
   "outputs": [],
   "source": [
    "temps = [25.2, 16.8, 31.4, 23.9, 28, 22.5, 19.6]"
   ]
  },
  {
   "cell_type": "code",
   "execution_count": 8,
   "metadata": {
    "collapsed": false
   },
   "outputs": [
    {
     "name": "stdout",
     "output_type": "stream",
     "text": [
      "[16.8, 19.6, 22.5, 23.9, 25.2, 28, 31.4]\n"
     ]
    }
   ],
   "source": [
    "temps.sort()\n",
    "print temps"
   ]
  },
  {
   "cell_type": "code",
   "execution_count": 9,
   "metadata": {
    "collapsed": false
   },
   "outputs": [],
   "source": [
    "cool_temps = temps[:2]\n",
    "warm_temps = temps[2:]"
   ]
  },
  {
   "cell_type": "code",
   "execution_count": 10,
   "metadata": {
    "collapsed": false
   },
   "outputs": [
    {
     "name": "stdout",
     "output_type": "stream",
     "text": [
      "[16.8, 19.6]\n",
      "[22.5, 23.9, 25.2, 28, 31.4]\n"
     ]
    }
   ],
   "source": [
    "print cool_temps\n",
    "print warm_temps"
   ]
  },
  {
   "cell_type": "code",
   "execution_count": 11,
   "metadata": {
    "collapsed": true
   },
   "outputs": [],
   "source": [
    "temps_in_celsius = cool_temps + warm_temps"
   ]
  },
  {
   "cell_type": "code",
   "execution_count": 12,
   "metadata": {
    "collapsed": false
   },
   "outputs": [
    {
     "name": "stdout",
     "output_type": "stream",
     "text": [
      "[16.8, 19.6, 22.5, 23.9, 25.2, 28, 31.4]\n"
     ]
    }
   ],
   "source": [
    "print temps_in_celsius"
   ]
  },
  {
   "cell_type": "code",
   "execution_count": 15,
   "metadata": {
    "collapsed": false
   },
   "outputs": [
    {
     "name": "stdout",
     "output_type": "stream",
     "text": [
      "[62.24, 67.28, 72.5, 75.02, 77.36, 82.4, 88.52]\n"
     ]
    }
   ],
   "source": [
    "temps_in_fahrenheit = []\n",
    "for temp in temps_in_celsius:\n",
    "    temps_in_fahrenheit.append(temp*1.8+32)\n",
    "print temps_in_fahrenheit"
   ]
  },
  {
   "cell_type": "markdown",
   "metadata": {},
   "source": [
    "# Problem 14"
   ]
  },
  {
   "cell_type": "code",
   "execution_count": 16,
   "metadata": {
    "collapsed": true
   },
   "outputs": [],
   "source": [
    "alkaline_earth_metals = [[4, 9.012], [12, 24.305], [20, 40.078], [38, 87.62], [56,137.327], [88, 226]]"
   ]
  },
  {
   "cell_type": "code",
   "execution_count": 35,
   "metadata": {
    "collapsed": false
   },
   "outputs": [
    {
     "name": "stdout",
     "output_type": "stream",
     "text": [
      " 4   9.012\n",
      "12  24.305\n",
      "20  40.078\n",
      "38  87.620\n",
      "56 137.327\n",
      "88 226.000\n"
     ]
    }
   ],
   "source": [
    "for (num, wei) in alkaline_earth_metals:\n",
    "    print \"%2.d %7.3f\" % (num, wei)"
   ]
  },
  {
   "cell_type": "code",
   "execution_count": 36,
   "metadata": {
    "collapsed": false
   },
   "outputs": [
    {
     "name": "stdout",
     "output_type": "stream",
     "text": [
      "[4, 9.012, 12, 24.305, 20, 40.078, 38, 87.62, 56, 137.327, 88, 226]\n"
     ]
    }
   ],
   "source": [
    "number_and_weight = []\n",
    "for (num, wei) in alkaline_earth_metals:\n",
    "    number_and_weight.append(num)\n",
    "    number_and_weight.append(wei)\n",
    "print number_and_weight"
   ]
  },
  {
   "cell_type": "markdown",
   "metadata": {},
   "source": [
    "# Problem 17"
   ]
  },
  {
   "cell_type": "code",
   "execution_count": 46,
   "metadata": {
    "collapsed": false
   },
   "outputs": [
    {
     "name": "stdout",
     "output_type": "stream",
     "text": [
      "[['4', '9.012'], ['12', '24.305'], ['20', '20.078'], ['38', '87.62'], ['56', '137.327'], ['88', '226']]\n"
     ]
    }
   ],
   "source": [
    "f = open('alkaline_metals.txt')\n",
    "atom_list =[]\n",
    "for line in f:\n",
    "    atom_list.append(line.split())\n",
    "print atom_list"
   ]
  },
  {
   "cell_type": "markdown",
   "metadata": {},
   "source": [
    "# Problem 19"
   ]
  },
  {
   "cell_type": "code",
   "execution_count": 65,
   "metadata": {
    "collapsed": false
   },
   "outputs": [
    {
     "data": {
      "text/plain": [
       "[[2, 10], [3, 6], [4, 7], [5, 8]]"
      ]
     },
     "execution_count": 65,
     "metadata": {},
     "output_type": "execute_result"
    }
   ],
   "source": [
    "def mystery_function(values):\n",
    "    '''Transpose a matrix'''\n",
    "    result = []\n",
    "    for i in range(len(values[0])):\n",
    "        # add a list contain first number of a \n",
    "        #column to round\n",
    "        result.append([values[0][i]])\n",
    "        \n",
    "        # add the remaining values of this column\n",
    "        #to the corresponding row\n",
    "        for j in range(1, len(values)):\n",
    "            result[-1].append(values[j][i])\n",
    "    return result\n",
    "    \n",
    "mystery_function([[2,3,4,5], [10,6,7,8]])"
   ]
  },
  {
   "cell_type": "markdown",
   "metadata": {},
   "source": [
    "# Problem 20\n",
    "Because strings are used as key in dictionary.\n",
    "It is good for managing memory"
   ]
  },
  {
   "cell_type": "markdown",
   "metadata": {},
   "source": [
    "# Problem 21\n",
    "I think it's the right thing to do"
   ]
  }
 ],
 "metadata": {
  "anaconda-cloud": {},
  "kernelspec": {
   "display_name": "Python [conda root]",
   "language": "python",
   "name": "conda-root-py"
  },
  "language_info": {
   "codemirror_mode": {
    "name": "ipython",
    "version": 2
   },
   "file_extension": ".py",
   "mimetype": "text/x-python",
   "name": "python",
   "nbconvert_exporter": "python",
   "pygments_lexer": "ipython2",
   "version": "2.7.12"
  }
 },
 "nbformat": 4,
 "nbformat_minor": 1
}
