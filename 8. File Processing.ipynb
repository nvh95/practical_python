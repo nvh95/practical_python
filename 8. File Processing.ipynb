{
 "cells": [
  {
   "cell_type": "markdown",
   "metadata": {},
   "source": [
    "# Problem 1\n",
    "We can read a file backward by use the built-in function reversed()"
   ]
  },
  {
   "cell_type": "code",
   "execution_count": 9,
   "metadata": {
    "collapsed": false
   },
   "outputs": [
    {
     "name": "stdout",
     "output_type": "stream",
     "text": [
      "6 2 2   8 8 \n",
      "7 2 3 . 7 3 1   6 5 \n",
      "2 6 . 7 8   8 3 \n",
      "8 7 0 . 0 2   0 2 \n",
      "5 0 3 . 4 2   2 1 \n",
      "2 1 0 . 9   4\n"
     ]
    }
   ],
   "source": [
    "f = open('alkaline_metals.txt')\n",
    "for char in reversed(f.read()):\n",
    "    i+=1\n",
    "    print char,"
   ]
  },
  {
   "cell_type": "markdown",
   "metadata": {},
   "source": [
    "# Problem 2"
   ]
  },
  {
   "cell_type": "code",
   "execution_count": 6,
   "metadata": {
    "collapsed": false
   },
   "outputs": [],
   "source": [
    "# Generate a dumb file\n",
    "# from random import randint\n",
    "\n",
    "# f = open(\"weather.txt\", \"w\")\n",
    "# for i in range(15):\n",
    "#     for j in range(38):\n",
    "#         f.write(str(randint(0, 9)))\n",
    "#     f.write('\\n')\n",
    "# f.close()"
   ]
  },
  {
   "cell_type": "code",
   "execution_count": 37,
   "metadata": {
    "collapsed": false
   },
   "outputs": [
    {
     "name": "stdout",
     "output_type": "stream",
     "text": [
      "((1369, 97, 41), (91, 21, 71), (90, 30, 42), (647589.0, 760339.0, 810688.0))\n"
     ]
    }
   ],
   "source": [
    "r = open('weather.txt')\n",
    "result = []\n",
    "for line in r:\n",
    "    year = int(line[0:4])\n",
    "    month = int(line[4:6])\n",
    "    day = int(line[6:8])\n",
    "    lat_deg = int(line[8:10])\n",
    "    lat_min = int(line[10:12])\n",
    "    lat_sec = int(line[12:14])\n",
    "    long_deg = int(line[14:16])\n",
    "    long_min = int(line[16:18])\n",
    "    long_sec = int(line[18:20])\n",
    "    temp = float(line[20:26])\n",
    "    hum = float(line[26:32])\n",
    "    press = float(line[32:38])\n",
    "    result.append(((year, month, day),\n",
    "    (lat_deg, lat_min, lat_sec),\n",
    "    (long_deg, long_min, long_sec),\n",
    "    (temp, hum, press)))\n",
    "\n",
    "    \n",
    "print result[0]"
   ]
  },
  {
   "cell_type": "code",
   "execution_count": 1,
   "metadata": {
    "collapsed": false
   },
   "outputs": [
    {
     "name": "stdout",
     "output_type": "stream",
     "text": [
      "((1369, 97, 41), (91, 21, 71), (90, 30, 42), (647589.0, 760339.0, 810688.0))\n"
     ]
    }
   ],
   "source": [
    "def read_weather_data(r):\n",
    "    '''Read weather data from reader r in fixed-width format.\n",
    "    The field widths are:\n",
    "    4,2,2 YYYYMMDD (date)\n",
    "    2,2,2 DDMMSS (latitude)\n",
    "    2,2,2 DDMMSS (longitude)\n",
    "    6,6,6 FF.FFF (temp, deg. C; humidity, %; pressure, kPa)\n",
    "    The result is a list of values (not tuples):\n",
    "    (YY, MM, DD, DD, MM, SS, DD, MM, SS, Temp, Hum, Press)'''\n",
    "    fields = (\n",
    "        ((4, int), (2, int), (2, int)), # date\n",
    "        ((2, int), (2, int), (2, int)), # latitude\n",
    "        ((2, int), (2, int), (2, int)), # longitude\n",
    "        ((6, float), (6, float), (6, float))) # data\n",
    "    result = []\n",
    "    # For each record\n",
    "    for line in r:\n",
    "        start = 0\n",
    "        record = []\n",
    "        # for each field in the record\n",
    "        for sub_fields in fields:\n",
    "            r =[]\n",
    "            for (width, target_type) in sub_fields:\n",
    "                # convert the text\n",
    "                text = line[start:start+width]\n",
    "                field = target_type(text)\n",
    "                # add it to the record\n",
    "                r.append(field)\n",
    "                # move on\n",
    "                start += width\n",
    "            record.append(tuple(r))\n",
    "                \n",
    "        # add the completed record to the result\n",
    "        result.append(tuple(record))\n",
    "    return result\n",
    "            \n",
    "a = read_weather_data(open('weather.txt'))\n",
    "print a[0]\n",
    "\n",
    "# using tuple is better because we can't edit the value of it."
   ]
  },
  {
   "cell_type": "markdown",
   "metadata": {},
   "source": [
    "# Problem 3"
   ]
  },
  {
   "cell_type": "code",
   "execution_count": 30,
   "metadata": {
    "collapsed": false
   },
   "outputs": [
    {
     "name": "stdout",
     "output_type": "stream",
     "text": [
      "4\n",
      "((4, <type 'int'>), (2, <type 'int'>), (2, <type 'int'>), (2, <type 'int'>), (2, <type 'int'>), (2, <type 'int'>), (2, <type 'int'>), (2, <type 'int'>), (2, <type 'int'>), (6, <type 'float'>), (6, <type 'float'>), (6, <type 'float'>))\n"
     ]
    }
   ],
   "source": [
    "def convert_fields_width_based(fields, line_length):\n",
    "    length_fields = len(fields)\n",
    "    new_fields = []\n",
    "    for i in range(1, length_fields):\n",
    "        # notice how to access element of a multidimentional tuple\n",
    "        new_fields.append((fields[i][0]-fields[i-1][0],fields[i-1][1]))\n",
    "    # append last element\n",
    "    new_fields.append((line_length - fields[i][0],fields[i-1][1]))\n",
    "    return tuple(new_fields)\n",
    "fields = (\n",
    "     (0, int), (4, int), (6, int),\n",
    "     (8, int), (10, int), (12, int),\n",
    "     (14, int), (16, int), (18, int),\n",
    "     (20, float), (26, float), (32, float)  # data\n",
    ")\n",
    "print fields[1][0]\n",
    "print convert_width_based(fields,38)"
   ]
  },
  {
   "cell_type": "code",
   "execution_count": 33,
   "metadata": {
    "collapsed": false
   },
   "outputs": [
    {
     "data": {
      "text/plain": [
       "[[1369, 97, 41, 91, 21, 71, 90, 30, 42, 647589.0, 760339.0, 810688.0],\n",
       " [682, 13, 40, 30, 96, 51, 83, 75, 87, 822088.0, 299588.0, 734670.0],\n",
       " [2859, 95, 85, 34, 71, 39, 88, 9, 50, 75224.0, 54662.0, 816885.0],\n",
       " [4429, 66, 25, 8, 58, 35, 18, 94, 51, 996340.0, 785757.0, 753493.0],\n",
       " [5423, 11, 4, 75, 48, 38, 74, 37, 95, 279243.0, 998813.0, 528979.0],\n",
       " [6455, 71, 61, 23, 0, 91, 99, 36, 16, 707615.0, 575020.0, 658671.0],\n",
       " [7518, 36, 72, 28, 1, 76, 60, 39, 81, 212478.0, 287735.0, 255698.0],\n",
       " [8735, 16, 37, 56, 69, 45, 23, 76, 17, 739131.0, 25644.0, 9329.0],\n",
       " [5576, 54, 61, 62, 14, 7, 7, 49, 24, 175858.0, 977217.0, 937439.0],\n",
       " [3752, 81, 17, 94, 75, 66, 75, 1, 36, 673626.0, 485806.0, 4099.0],\n",
       " [7082, 37, 29, 74, 27, 65, 14, 60, 73, 128994.0, 796869.0, 930184.0],\n",
       " [5892, 18, 87, 38, 57, 77, 88, 59, 8, 294188.0, 829239.0, 689267.0],\n",
       " [2525, 98, 74, 0, 88, 38, 96, 79, 73, 97714.0, 149199.0, 792543.0],\n",
       " [6801, 7, 98, 41, 55, 49, 31, 23, 34, 311481.0, 985467.0, 215845.0],\n",
       " [5863, 15, 3, 86, 69, 76, 69, 82, 8, 171446.0, 321035.0, 200663.0]]"
      ]
     },
     "execution_count": 33,
     "metadata": {},
     "output_type": "execute_result"
    }
   ],
   "source": [
    "def read_weather(r, fields):\n",
    "    result = []\n",
    "    # For each record\n",
    "    line_length = 38\n",
    "    standard_fields = convert_fields_width_based(fields, line_length)\n",
    "    for line in r:\n",
    "        start = 0\n",
    "        record = []\n",
    "        # for each field in the record\n",
    "        for (width, target_type) in standard_fields:\n",
    "            # convert the text\n",
    "            text = line[start:start+width]\n",
    "            field = target_type(text)\n",
    "            # add it to the record\n",
    "            record.append(field)\n",
    "            # move on\n",
    "            start += width\n",
    "        # add the completed record to the result\n",
    "        result.append(record)\n",
    "    return result\n",
    "\n",
    "read_weather(open('weather.txt'), (\n",
    "     (0, int), (4, int), (6, int),\n",
    "     (8, int), (10, int), (12, int),\n",
    "     (14, int), (16, int), (18, int),\n",
    "     (20, float), (26, float), (32, float)  # data\n",
    "))"
   ]
  },
  {
   "cell_type": "markdown",
   "metadata": {
    "collapsed": true
   },
   "source": [
    "# Problem 4"
   ]
  },
  {
   "cell_type": "code",
   "execution_count": 8,
   "metadata": {
    "collapsed": false
   },
   "outputs": [
    {
     "name": "stdout",
     "output_type": "stream",
     "text": [
      "<open file 'hopedale.txt', mode 'r' at 0x0000000003F14660>\n",
      "Coloured fox fur production, HOPEDALE, Labrador, 1834-1842\n",
      "#Source: C. Elton (1942) \"Voles, Mice and Lemmings\", Oxford Univ. Press\n",
      "#Table 17, p.265--266\n",
      "22\n",
      "29\n",
      "2\n",
      "16\n",
      "12\n",
      "35\n",
      "8\n",
      "83\n",
      "166\n"
     ]
    }
   ],
   "source": [
    "input_file = open('hopedale.txt', 'r')\n",
    "print input_file\n",
    "for line in input_file:\n",
    "    line =line.strip()\n",
    "    print line\n",
    "input_file.close()"
   ]
  },
  {
   "cell_type": "code",
   "execution_count": 9,
   "metadata": {
    "collapsed": false
   },
   "outputs": [
    {
     "name": "stdout",
     "output_type": "stream",
     "text": [
      "Coloured fox fur production, HOPEDALE, Labrador, 1834-1842\n",
      "\n",
      "#Source: C. Elton (1942) \"Voles, Mice and Lemmings\", Oxford Univ. Press\n",
      "\n",
      "#Table 17, p.265--266\n",
      "\n",
      "      22   \n",
      "\n",
      "      29   \n",
      "\n",
      "       2   \n",
      "\n",
      "      16   \n",
      "\n",
      "      12   \n",
      "\n",
      "      35   \n",
      "\n",
      "       8   \n",
      "\n",
      "      83   \n",
      "\n",
      "     166   \n"
     ]
    }
   ],
   "source": [
    "import urllib\n",
    "url = \"https://raw.githubusercontent.com/nvh95/practical_python/master/hopedale.txt\"\n",
    "web_page = urllib.urlopen(url)\n",
    "for line in web_page:\n",
    "    line.strip()\n",
    "    print line\n",
    "web_page.close()"
   ]
  },
  {
   "cell_type": "code",
   "execution_count": 10,
   "metadata": {
    "collapsed": true
   },
   "outputs": [],
   "source": [
    "def skip_header(r):\n",
    "    '''Skip the header in reader r, and return the first\n",
    "    real piece of data.'''\n",
    "    # Read the description line and then the comment lines.\n",
    "    line = r.readline()\n",
    "    line = r.readline()\n",
    "    while line.startswith('#'):\n",
    "        line = r.readline()\n",
    "        \n",
    "    # Now line contains the first real piece of data.\n",
    "    return line"
   ]
  },
  {
   "cell_type": "code",
   "execution_count": 35,
   "metadata": {
    "collapsed": false
   },
   "outputs": [],
   "source": [
    "def smallest_value(r):\n",
    "    '''Read and process reader r to find the smallest\n",
    "    value after the TSDL header.'''\n",
    "    line = skip_header(r).strip()\n",
    "    print line\n",
    "    number_of_data = 0\n",
    "    # Now line contains the first data value; this is also the\n",
    "    # smallest value found so far, because it is the only one we have seen.\n",
    "    smallest = float(\"inf\")\n",
    "    for line in r:\n",
    "        line = line.strip()\n",
    "        value = int(line)\n",
    "        # If we find a smaller value, remember it.\n",
    "        if value < smallest:\n",
    "            smallest = value\n",
    "            \n",
    "        number_of_data +=1\n",
    "        \n",
    "    return smallest if number_of_data != 0 else \"No data\""
   ]
  },
  {
   "cell_type": "code",
   "execution_count": 37,
   "metadata": {
    "collapsed": false
   },
   "outputs": [
    {
     "name": "stdout",
     "output_type": "stream",
     "text": [
      "\n",
      "No data\n"
     ]
    }
   ],
   "source": [
    "input_file = open('hopedale.txt', 'r')\n",
    "print smallest_value(input_file)"
   ]
  },
  {
   "cell_type": "markdown",
   "metadata": {},
   "source": [
    "# Problem 5\n",
    "Not solved yet"
   ]
  },
  {
   "cell_type": "markdown",
   "metadata": {},
   "source": [
    "# Problem 6"
   ]
  },
  {
   "cell_type": "code",
   "execution_count": 57,
   "metadata": {
    "collapsed": false
   },
   "outputs": [
    {
     "data": {
      "text/plain": [
       "[['AMMONIA',\n",
       "  ('N', '0.257', '-0.363', '0.000'),\n",
       "  ('H', '0.257', '0.727', '0.000'),\n",
       "  ('H', '0.771', '-0.727', '0.890'),\n",
       "  ('H', '0.771', '-0.727', '-0.890')],\n",
       " ['METHANOL',\n",
       "  ('C', '-0.748', '-0.015', '0.024'),\n",
       "  ('O', '0.558', '0.420', '-0.278'),\n",
       "  ('H', '-1.293', '-0.202', '-0.901'),\n",
       "  ('H', '-1.263', '0.754', '0.600'),\n",
       "  ('H', '-0.699', '-0.934', '0.609'),\n",
       "  ('H', '0.716', '1.404', '0.137')]]"
      ]
     },
     "execution_count": 57,
     "metadata": {},
     "output_type": "execute_result"
    }
   ],
   "source": [
    "def read_all_molecules(r):\n",
    "    '''Read zero or more molecules from reader r,\n",
    "    returning a list of the molecules read.'''\n",
    "    \n",
    "    result = []\n",
    "    reading = True\n",
    "    while reading:\n",
    "        molecule = read_molecule(r)\n",
    "        if molecule:\n",
    "            result.append(molecule)\n",
    "        else:\n",
    "            reading = False\n",
    "    return result\n",
    "\n",
    "def read_molecule(r):\n",
    "    '''Read a single molecule from reader r and return it,\n",
    "    or return None to signal end of file.'''\n",
    "\n",
    "    # If there isn't another line, we're at the end of the file.\n",
    "    line = r.readline()\n",
    "    if not line:\n",
    "        return None\n",
    "\n",
    "    # Name of the molecule: \"COMPND   name\"\n",
    "    key, name = line.split()\n",
    "    \n",
    "    # Other lines are either \"END\" or \"ATOM num type x y z\"\n",
    "    molecule = [name]\n",
    "    reading = True\n",
    "\n",
    "    while reading:\n",
    "        line = r.readline()\n",
    "        if line.startswith('CMNT'):\n",
    "            continue\n",
    "        \n",
    "        if (line.strip() == ''):\n",
    "            continue\n",
    "        if line.startswith('END'):\n",
    "            reading = False\n",
    "        else:\n",
    "            key, num, type, x, y, z = line.split()\n",
    "            molecule.append((type, x, y, z))\n",
    "\n",
    "    return molecule\n",
    "\n",
    "input_file = open('multimol.pdb')\n",
    "read_all_molecules(input_file)"
   ]
  },
  {
   "cell_type": "markdown",
   "metadata": {},
   "source": [
    "# Problem 7"
   ]
  },
  {
   "cell_type": "code",
   "execution_count": 63,
   "metadata": {
    "collapsed": false
   },
   "outputs": [
    {
     "data": {
      "text/plain": [
       "[['AMMONIA',\n",
       "  ('N', '0.257', '-0.363', '0.000'),\n",
       "  ('H', '0.257', '0.727', '0.000'),\n",
       "  ('H', '0.771', '-0.727', '0.890'),\n",
       "  ('H', '0.771', '-0.727', '-0.890')],\n",
       " ['METHANOL',\n",
       "  ('C', '-0.748', '-0.015', '0.024'),\n",
       "  ('O', '0.558', '0.420', '-0.278'),\n",
       "  ('H', '-1.293', '-0.202', '-0.901'),\n",
       "  ('H', '-1.263', '0.754', '0.600'),\n",
       "  ('H', '-0.699', '-0.934', '0.609'),\n",
       "  ('H', '0.716', '1.404', '0.137')]]"
      ]
     },
     "execution_count": 63,
     "metadata": {},
     "output_type": "execute_result"
    }
   ],
   "source": [
    "# The function should notify the user or return an error\n",
    "def read_all_molecules(r):\n",
    "    '''Read zero or more molecules from reader r,\n",
    "    returning a list of the molecules read.'''\n",
    "    \n",
    "    result = []\n",
    "    reading = True\n",
    "    while reading:\n",
    "        molecule = read_molecule(r)\n",
    "        if molecule:\n",
    "            result.append(molecule)\n",
    "        else:\n",
    "            reading = False\n",
    "    return result\n",
    "\n",
    "def read_molecule(r):\n",
    "    '''Read a single molecule from reader r and return it,\n",
    "    or return None to signal end of file.'''\n",
    "\n",
    "    # If there isn't another line, we're at the end of the file.\n",
    "    line = r.readline()\n",
    "    if not line:\n",
    "        return None\n",
    "\n",
    "    # Name of the molecule: \"COMPND   name\"\n",
    "    key, name = line.split()\n",
    "    \n",
    "    # Other lines are either \"END\" or \"ATOM num type x y z\"\n",
    "    molecule = [name]\n",
    "    reading = True\n",
    "    \n",
    "    i=0\n",
    "    while reading:\n",
    "        line = r.readline()\n",
    "        if line.startswith('CMNT'):\n",
    "            continue\n",
    "        \n",
    "        if (line.strip() == ''):\n",
    "            continue\n",
    "        if line.startswith('END'):\n",
    "            reading = False\n",
    "        else:\n",
    "            key, num, type, x, y, z = line.split()\n",
    "            i += 1\n",
    "            if i == 1:\n",
    "                num_before = num\n",
    "                if int(num) != 1:\n",
    "                    print \"Not start with 1\"\n",
    "            elif int(num) != int(num_before) +1:\n",
    "                print \"Not increase by 1\"\n",
    "            num_before = num\n",
    "            molecule.append((type, x, y, z))\n",
    "\n",
    "    return molecule\n",
    "\n",
    "input_file = open('multimol.pdb')\n",
    "read_all_molecules(input_file)"
   ]
  },
  {
   "cell_type": "code",
   "execution_count": null,
   "metadata": {
    "collapsed": true
   },
   "outputs": [],
   "source": []
  }
 ],
 "metadata": {
  "anaconda-cloud": {},
  "kernelspec": {
   "display_name": "Python [conda root]",
   "language": "python",
   "name": "conda-root-py"
  },
  "language_info": {
   "codemirror_mode": {
    "name": "ipython",
    "version": 2
   },
   "file_extension": ".py",
   "mimetype": "text/x-python",
   "name": "python",
   "nbconvert_exporter": "python",
   "pygments_lexer": "ipython2",
   "version": "2.7.12"
  }
 },
 "nbformat": 4,
 "nbformat_minor": 1
}
