{
 "cells": [
  {
   "cell_type": "markdown",
   "metadata": {},
   "source": [
    "# Problem 1\n",
    "We can read a file backward by use the built-in function reversed()"
   ]
  },
  {
   "cell_type": "code",
   "execution_count": 9,
   "metadata": {
    "collapsed": false
   },
   "outputs": [
    {
     "name": "stdout",
     "output_type": "stream",
     "text": [
      "6 2 2   8 8 \n",
      "7 2 3 . 7 3 1   6 5 \n",
      "2 6 . 7 8   8 3 \n",
      "8 7 0 . 0 2   0 2 \n",
      "5 0 3 . 4 2   2 1 \n",
      "2 1 0 . 9   4\n"
     ]
    }
   ],
   "source": [
    "f = open('alkaline_metals.txt')\n",
    "for char in reversed(f.read()):\n",
    "    i+=1\n",
    "    print char,"
   ]
  },
  {
   "cell_type": "markdown",
   "metadata": {},
   "source": [
    "# Problem 2"
   ]
  },
  {
   "cell_type": "code",
   "execution_count": 6,
   "metadata": {
    "collapsed": false
   },
   "outputs": [],
   "source": [
    "# Generate a dumb file\n",
    "# from random import randint\n",
    "\n",
    "# f = open(\"weather.txt\", \"w\")\n",
    "# for i in range(15):\n",
    "#     for j in range(38):\n",
    "#         f.write(str(randint(0, 9)))\n",
    "#     f.write('\\n')\n",
    "# f.close()"
   ]
  },
  {
   "cell_type": "code",
   "execution_count": 37,
   "metadata": {
    "collapsed": false
   },
   "outputs": [
    {
     "name": "stdout",
     "output_type": "stream",
     "text": [
      "((1369, 97, 41), (91, 21, 71), (90, 30, 42), (647589.0, 760339.0, 810688.0))\n"
     ]
    }
   ],
   "source": [
    "r = open('weather.txt')\n",
    "result = []\n",
    "for line in r:\n",
    "    year = int(line[0:4])\n",
    "    month = int(line[4:6])\n",
    "    day = int(line[6:8])\n",
    "    lat_deg = int(line[8:10])\n",
    "    lat_min = int(line[10:12])\n",
    "    lat_sec = int(line[12:14])\n",
    "    long_deg = int(line[14:16])\n",
    "    long_min = int(line[16:18])\n",
    "    long_sec = int(line[18:20])\n",
    "    temp = float(line[20:26])\n",
    "    hum = float(line[26:32])\n",
    "    press = float(line[32:38])\n",
    "    result.append(((year, month, day),\n",
    "    (lat_deg, lat_min, lat_sec),\n",
    "    (long_deg, long_min, long_sec),\n",
    "    (temp, hum, press)))\n",
    "\n",
    "    \n",
    "print result[0]"
   ]
  },
  {
   "cell_type": "code",
   "execution_count": 45,
   "metadata": {
    "collapsed": false
   },
   "outputs": [
    {
     "name": "stdout",
     "output_type": "stream",
     "text": [
      "((1369, 97, 41), (91, 21, 71), (90, 30, 42), (647589.0, 760339.0, 810688.0))\n"
     ]
    }
   ],
   "source": [
    "def read_weather_data(r):\n",
    "    '''Read weather data from reader r in fixed-width format.\n",
    "    The field widths are:\n",
    "    4,2,2 YYYYMMDD (date)\n",
    "    2,2,2 DDMMSS (latitude)\n",
    "    2,2,2 DDMMSS (longitude)\n",
    "    6,6,6 FF.FFF (temp, deg. C; humidity, %; pressure, kPa)\n",
    "    The result is a list of values (not tuples):\n",
    "    (YY, MM, DD, DD, MM, SS, DD, MM, SS, Temp, Hum, Press)'''\n",
    "    fields = (\n",
    "        ((4, int), (2, int), (2, int)), # date\n",
    "        ((2, int), (2, int), (2, int)), # latitude\n",
    "        ((2, int), (2, int), (2, int)), # longitude\n",
    "        ((6, float), (6, float), (6, float))) # data\n",
    "    result = []\n",
    "    # For each record\n",
    "    for line in r:\n",
    "        start = 0\n",
    "        record = []\n",
    "        # for each field in the record\n",
    "        for sub_fields in fields:\n",
    "            r =[]\n",
    "            for (width, target_type) in sub_fields:\n",
    "                # convert the text\n",
    "                text = line[start:start+width]\n",
    "                field = target_type(text)\n",
    "                # add it to the record\n",
    "                r.append(field)\n",
    "                # move on\n",
    "                start += width\n",
    "            record.append(tuple(r))\n",
    "                \n",
    "        # add the completed record to the result\n",
    "        result.append(tuple(record))\n",
    "    return result\n",
    "            \n",
    "a = read_weather_data(open('weather.txt'))\n",
    "print a[0]\n",
    "\n",
    "# using tuple is better because we can't edit the value of it."
   ]
  },
  {
   "cell_type": "markdown",
   "metadata": {},
   "source": [
    "# Problem 3"
   ]
  },
  {
   "cell_type": "code",
   "execution_count": null,
   "metadata": {
    "collapsed": true
   },
   "outputs": [],
   "source": [
    "def convert_width_based(fields, length):\n",
    "    for (start_point, target_type) in fields:\n",
    "        "
   ]
  },
  {
   "cell_type": "code",
   "execution_count": 48,
   "metadata": {
    "collapsed": false
   },
   "outputs": [
    {
     "name": "stdout",
     "output_type": "stream",
     "text": [
      "1\n"
     ]
    }
   ],
   "source": [
    "a=(1,2)\n",
    "print a[0]\n"
   ]
  },
  {
   "cell_type": "code",
   "execution_count": null,
   "metadata": {
    "collapsed": true
   },
   "outputs": [],
   "source": []
  }
 ],
 "metadata": {
  "anaconda-cloud": {},
  "kernelspec": {
   "display_name": "Python [conda root]",
   "language": "python",
   "name": "conda-root-py"
  },
  "language_info": {
   "codemirror_mode": {
    "name": "ipython",
    "version": 2
   },
   "file_extension": ".py",
   "mimetype": "text/x-python",
   "name": "python",
   "nbconvert_exporter": "python",
   "pygments_lexer": "ipython2",
   "version": "2.7.12"
  }
 },
 "nbformat": 4,
 "nbformat_minor": 1
}
