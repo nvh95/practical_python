{
 "cells": [
  {
   "cell_type": "markdown",
   "metadata": {},
   "source": [
    "# Problem 1\n",
    "I think this feature is useful, especially for function whhich has many arguments"
   ]
  },
  {
   "cell_type": "markdown",
   "metadata": {},
   "source": [
    "# Problem 2\n",
    "Because None can be used for other type of data. And it looks nicer"
   ]
  },
  {
   "cell_type": "markdown",
   "metadata": {},
   "source": [
    "# Problem 3"
   ]
  },
  {
   "cell_type": "raw",
   "metadata": {},
   "source": [
    "http://www.saltycrane.com/blog/2008/01/how-to-use-args-and-kwargs-in-python/\n",
    "\n",
    "kwargs is a dictionary with key and value are the named parameter with the argument passed"
   ]
  },
  {
   "cell_type": "code",
   "execution_count": 4,
   "metadata": {
    "collapsed": false
   },
   "outputs": [
    {
     "name": "stdout",
     "output_type": "stream",
     "text": [
      "formal arg: 1\n",
      "another keyword arg: myarg2: two\n",
      "another keyword arg: myarg3: 3\n"
     ]
    }
   ],
   "source": [
    "def test_var_kwargs(farg, **kwargs):\n",
    "    print \"formal arg:\", farg\n",
    "    for key in kwargs:\n",
    "        print \"another keyword arg: %s: %s\" % (key, kwargs[key])\n",
    "\n",
    "test_var_kwargs(farg=1, myarg2=\"two\", myarg3=3)"
   ]
  },
  {
   "cell_type": "markdown",
   "metadata": {},
   "source": [
    "# Problem 4"
   ]
  },
  {
   "cell_type": "raw",
   "metadata": {},
   "source": [
    "# line_intersect([[1,1], [2,2]], [[0,2], [1,3]]) == None\n",
    "line_intersect([[1,1], [2,2]], [[0,0], [1,1]]) == [[1,1], [2,2]]\n",
    "line_intersect([[1,2], [2,4]], [[0,2], [1,3]]) == [2, 4]\n",
    "line_intersect([[3,0], [4,0]], [[0,3], [0,0]]) == [0, 0]\n",
    "line_intersect([[3,5], [4,5]], [[0,3], [0,0]]) == [0, 5]\n",
    "line_intersect([[5,0], [0,0]], [[6,7], [6,8]]) == [6, 0]\n",
    "\n",
    "\n"
   ]
  },
  {
   "cell_type": "markdown",
   "metadata": {},
   "source": [
    "# Problem 5"
   ]
  },
  {
   "cell_type": "markdown",
   "metadata": {},
   "source": [
    "I think testing testing the function give the correct answer is more important than testing error handling. Because when an error occur, we knew it happend. But when the function gives wrong answer, we maybe do not know that and it may lead to a serious consequence which we don't know before"
   ]
  },
  {
   "cell_type": "markdown",
   "metadata": {},
   "source": [
    "input an invalid line at first param, second param and both params (3)\n",
    "input is not a line (such as an int, string, list of integers) (3)"
   ]
  },
  {
   "cell_type": "markdown",
   "metadata": {},
   "source": [
    "# Problem 6"
   ]
  },
  {
   "cell_type": "raw",
   "metadata": {},
   "source": [
    "Each language have 3 tests at first, last and middle of 106 elements. Test at least one language for all elements.\n",
    "Total number is 106 + 3*25 = 181 tests"
   ]
  },
  {
   "cell_type": "markdown",
   "metadata": {},
   "source": [
    "# Problem 7\n",
    "Several of her tests failed because when comparing 2 float numbers, even they are the same (mathematically) but they maybe not 'equal' in computer. I suggest her define a function named close, which return True if they are very close, the difference is smaller than a threshold which is small enough to confirm they are equal."
   ]
  },
  {
   "cell_type": "code",
   "execution_count": 8,
   "metadata": {
    "collapsed": false
   },
   "outputs": [
    {
     "name": "stdout",
     "output_type": "stream",
     "text": [
      "3.0\n"
     ]
    }
   ],
   "source": [
    "def average(lists):\n",
    "    sum=0\n",
    "    for element in lists:\n",
    "        sum += element\n",
    "    return float(sum) / len(lists)\n",
    "\n",
    "print average([1,2,3,4,5])"
   ]
  },
  {
   "cell_type": "markdown",
   "metadata": {},
   "source": [
    "# Problem 8"
   ]
  },
  {
   "cell_type": "markdown",
   "metadata": {},
   "source": [
    "Does the order of elements matter?"
   ]
  },
  {
   "cell_type": "markdown",
   "metadata": {},
   "source": [
    "# Problem 9"
   ]
  },
  {
   "cell_type": "code",
   "execution_count": 19,
   "metadata": {
    "collapsed": false
   },
   "outputs": [
    {
     "name": "stdout",
     "output_type": "stream",
     "text": [
      "Overwriting prefixes.py\n"
     ]
    }
   ],
   "source": [
    "%%writefile prefixes.py\n",
    "def all_prefixes(prefix):\n",
    "    prefixes = set()\n",
    "    for i in range(1, len(prefix)+1):\n",
    "        prefixes.add(prefix[0:i])\n",
    "    return prefixes\n",
    "# print all_prefixes('hung')"
   ]
  },
  {
   "cell_type": "code",
   "execution_count": 31,
   "metadata": {
    "collapsed": false
   },
   "outputs": [
    {
     "name": "stdout",
     "output_type": "stream",
     "text": [
      "Overwriting testprefixes.py\n"
     ]
    }
   ],
   "source": [
    "%%writefile testprefixes.py\n",
    "import nose\n",
    "from prefixes import all_prefixes\n",
    "def test_length_of_4():\n",
    "    assert all_prefixes('hung') == set(['h', 'hu','hun','hung'])\n",
    "    \n",
    "def test_length_of_1():\n",
    "    assert all_prefixes('h') == set(['h'])\n",
    "\n",
    "if __name__ == \"__main__\":\n",
    "    nose.runmodule()"
   ]
  },
  {
   "cell_type": "code",
   "execution_count": 32,
   "metadata": {
    "collapsed": false
   },
   "outputs": [
    {
     "name": "stderr",
     "output_type": "stream",
     "text": [
      "..\n",
      "----------------------------------------------------------------------\n",
      "Ran 2 tests in 0.005s\n",
      "\n",
      "OK\n"
     ]
    }
   ],
   "source": [
    "%run testprefixes.py"
   ]
  },
  {
   "cell_type": "raw",
   "metadata": {},
   "source": [
    "Need string is non-empty"
   ]
  },
  {
   "cell_type": "markdown",
   "metadata": {},
   "source": [
    "# Problem 10"
   ]
  },
  {
   "cell_type": "code",
   "execution_count": null,
   "metadata": {
    "collapsed": true
   },
   "outputs": [],
   "source": []
  }
 ],
 "metadata": {
  "anaconda-cloud": {},
  "kernelspec": {
   "display_name": "Python [conda root]",
   "language": "python",
   "name": "conda-root-py"
  },
  "language_info": {
   "codemirror_mode": {
    "name": "ipython",
    "version": 2
   },
   "file_extension": ".py",
   "mimetype": "text/x-python",
   "name": "python",
   "nbconvert_exporter": "python",
   "pygments_lexer": "ipython2",
   "version": "2.7.12"
  }
 },
 "nbformat": 4,
 "nbformat_minor": 1
}
