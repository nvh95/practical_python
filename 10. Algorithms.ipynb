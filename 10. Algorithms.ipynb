{
 "cells": [
  {
   "cell_type": "markdown",
   "metadata": {},
   "source": [
    "# Problem 1"
   ]
  },
  {
   "cell_type": "code",
   "execution_count": 5,
   "metadata": {
    "collapsed": false
   },
   "outputs": [
    {
     "name": "stdout",
     "output_type": "stream",
     "text": [
      "TTAACGGCA\n"
     ]
    }
   ],
   "source": [
    "# replace each element each characters\n",
    "def complement(sequence):\n",
    "    dict = {'A':'T', 'T':'A', 'G':'C', 'C':'G'}\n",
    "    newdna = []\n",
    "    for i in range(len(sequence)):\n",
    "        newdna.append(dict[sequence[i]])\n",
    "    return ''.join(newdna)\n",
    "\n",
    "print complement(\"AATTGCCGT\")"
   ]
  },
  {
   "cell_type": "markdown",
   "metadata": {},
   "source": [
    "# Problem 2"
   ]
  },
  {
   "cell_type": "code",
   "execution_count": 7,
   "metadata": {
    "collapsed": false
   },
   "outputs": [
    {
     "name": "stdout",
     "output_type": "stream",
     "text": [
      "(0, 4)\n"
     ]
    }
   ],
   "source": [
    "def min_index(sequence):\n",
    "    min_value = sequence[0]\n",
    "    index = 0\n",
    "    \n",
    "    for i in sequence:\n",
    "        if sequence[i] <min_value:\n",
    "            index = i\n",
    "            min_value = sequence[i]\n",
    "    return (min_value, index)\n",
    "\n",
    "print min_index([1,2,3,4,0,4,5])"
   ]
  },
  {
   "cell_type": "code",
   "execution_count": 13,
   "metadata": {
    "collapsed": false
   },
   "outputs": [
    {
     "name": "stdout",
     "output_type": "stream",
     "text": [
      "(9, 2)\n",
      "(-1, 3)\n"
     ]
    }
   ],
   "source": [
    "def min_or_max_index(sequence, bool):\n",
    "    extreme = sequence[0]\n",
    "    index = 0\n",
    "    \n",
    "    for i, value in enumerate(sequence):\n",
    "        if bool:\n",
    "            if value <extreme:\n",
    "                index = i\n",
    "                extreme = value\n",
    "        else:\n",
    "            if value > extreme:\n",
    "                index = i\n",
    "                extreme = value\n",
    "    return (extreme, index)\n",
    "\n",
    "print min_or_max_index([1,2,9,3,4,0,4,5], False)\n",
    "print min_or_max_index([1,2,3,-1,4,0,4,5], True)"
   ]
  },
  {
   "cell_type": "markdown",
   "metadata": {},
   "source": [
    "# Problem 3"
   ]
  },
  {
   "cell_type": "code",
   "execution_count": 2,
   "metadata": {
    "collapsed": false
   },
   "outputs": [
    {
     "name": "stdout",
     "output_type": "stream",
     "text": [
      "Overwriting minmax.py\n"
     ]
    }
   ],
   "source": [
    "%%writefile minmax.py\n",
    "def find_two_smallest(L):\n",
    "    '''Return a tuple of the indices of the two smallest values in list L.'''\n",
    "    temp_list = L[:] \n",
    "    temp_list.sort()\n",
    "    smallest = temp_list[0] \n",
    "    next_smallest = temp_list[1] \n",
    "    min1 = L.index(smallest)\n",
    "    min2 = L.index(next_smallest) \n",
    "    return (min1, min2)\n",
    "\n",
    "#find_two_smallest([1,4,3,9,2,19,2,-2])"
   ]
  },
  {
   "cell_type": "code",
   "execution_count": 3,
   "metadata": {
    "collapsed": false
   },
   "outputs": [
    {
     "name": "stdout",
     "output_type": "stream",
     "text": [
      "Overwriting test_minmax.py\n"
     ]
    }
   ],
   "source": [
    "%%writefile test_minmax.py\n",
    "import nose\n",
    "from minmax import find_two_smallest\n",
    "def test_maxmin():\n",
    "    '''Test if finding max and min index is correct'''\n",
    "    assert find_two_smallest([1,2]) ==(0,1) , 'Fails short lists'\n",
    "    assert find_two_smallest([7,2,3,4,4,5,]) == (1,2), \"Fails long lists\"\n",
    "\n",
    "if __name__ == '__main__': \n",
    "    nose.runmodule()\n",
    "    "
   ]
  },
  {
   "cell_type": "code",
   "execution_count": 4,
   "metadata": {
    "collapsed": false
   },
   "outputs": [
    {
     "name": "stderr",
     "output_type": "stream",
     "text": [
      ".\n",
      "----------------------------------------------------------------------\n",
      "Ran 1 test in 0.003s\n",
      "\n",
      "OK\n"
     ]
    }
   ],
   "source": [
    "%run test_minmax.py"
   ]
  },
  {
   "cell_type": "markdown",
   "metadata": {},
   "source": [
    "# Problem 4"
   ]
  },
  {
   "cell_type": "markdown",
   "metadata": {},
   "source": [
    "If we pass list length of 0 or 1, there will be an 'out of range' error.\n",
    "\n",
    "modify docstring\n",
    "'''Return a tuple of the indices of the two smallest values in list L which has more than 1 element.'''\n"
   ]
  }
 ],
 "metadata": {
  "anaconda-cloud": {},
  "kernelspec": {
   "display_name": "Python [conda root]",
   "language": "python",
   "name": "conda-root-py"
  },
  "language_info": {
   "codemirror_mode": {
    "name": "ipython",
    "version": 2
   },
   "file_extension": ".py",
   "mimetype": "text/x-python",
   "name": "python",
   "nbconvert_exporter": "python",
   "pygments_lexer": "ipython2",
   "version": "2.7.12"
  }
 },
 "nbformat": 4,
 "nbformat_minor": 1
}
