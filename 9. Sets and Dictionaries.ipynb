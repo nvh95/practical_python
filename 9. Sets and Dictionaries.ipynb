{
 "cells": [
  {
   "cell_type": "markdown",
   "metadata": {},
   "source": [
    "# Problem 1"
   ]
  },
  {
   "cell_type": "code",
   "execution_count": 9,
   "metadata": {
    "collapsed": true
   },
   "outputs": [],
   "source": [
    "def find_dups(integers):\n",
    "    integers_dic = {}\n",
    "    dup_set = set()\n",
    "    for integer in integers:\n",
    "        if not integer in integers_dic:\n",
    "            integers_dic[integer] = 1\n",
    "        else:\n",
    "            dup_set.add(integer)\n",
    "            \n",
    "    return dup_set"
   ]
  },
  {
   "cell_type": "code",
   "execution_count": 10,
   "metadata": {
    "collapsed": false
   },
   "outputs": [
    {
     "name": "stdout",
     "output_type": "stream",
     "text": [
      "set([8, 1, 2, 3])\n"
     ]
    }
   ],
   "source": [
    "print find_dups([1,2,3,4,3,2,1,3,8,8])"
   ]
  },
  {
   "cell_type": "markdown",
   "metadata": {},
   "source": [
    "# Problem 2"
   ]
  },
  {
   "cell_type": "code",
   "execution_count": 31,
   "metadata": {
    "collapsed": false
   },
   "outputs": [
    {
     "name": "stdout",
     "output_type": "stream",
     "text": [
      "set([(1, 3), (2, 4)])\n"
     ]
    }
   ],
   "source": [
    "def mating_pairs(males, females):\n",
    "    pairs = set()\n",
    "    for i in range(len(males)):\n",
    "        pairs.add((males.pop(), females.pop()))\n",
    "    return pairs\n",
    "\n",
    "print mating_pairs(set([1,2]), set([3,4]))"
   ]
  },
  {
   "cell_type": "markdown",
   "metadata": {},
   "source": [
    "# Problem 3"
   ]
  },
  {
   "cell_type": "code",
   "execution_count": 83,
   "metadata": {
    "collapsed": false
   },
   "outputs": [
    {
     "data": {
      "text/plain": [
       "{'Hung', 'Hung Tran', 'Khanh', 'Tommy', 'Vu'}"
      ]
     },
     "execution_count": 83,
     "metadata": {},
     "output_type": "execute_result"
    }
   ],
   "source": [
    "def list_all_author(files):\n",
    "    all_authors = []\n",
    "    for file in files:\n",
    "        authors = get_author(file)\n",
    "        \n",
    "        # add authors if authors not empty\n",
    "        for author in authors:\n",
    "            all_authors.append(author)\n",
    "    return set(all_authors)\n",
    "\n",
    "def get_author(file):\n",
    "    f = open(file)\n",
    "    authors= []\n",
    "    for line in f:\n",
    "        if line.upper().startswith(\"AUTHOR\"):\n",
    "            # deal with name has blank space\n",
    "            key, name = line.split(None,1)\n",
    "            name = name.strip()\n",
    "            authors.append(name)\n",
    "    return authors\n",
    "list_all_author([\"author1.txt\", \"author2.txt\"])"
   ]
  },
  {
   "cell_type": "markdown",
   "metadata": {},
   "source": [
    "# Problem 5"
   ]
  },
  {
   "cell_type": "code",
   "execution_count": 101,
   "metadata": {
    "collapsed": false
   },
   "outputs": [
    {
     "name": "stdout",
     "output_type": "stream",
     "text": [
      "3\n"
     ]
    }
   ],
   "source": [
    "def count_values(dic):\n",
    "    distinct ={}\n",
    "    for (key, value) in dic.iteritems():\n",
    "        if not value in distinct:\n",
    "            distinct[value]=0\n",
    "        else:\n",
    "            distinct[value] +=1\n",
    "    return len(distinct)\n",
    "\n",
    "a = {'red':1, 'green':1, 'blue':2, 'hung':3, 'hi':3}\n",
    "print count_values(a)"
   ]
  },
  {
   "cell_type": "markdown",
   "metadata": {
    "collapsed": true
   },
   "source": [
    "# Problem 6"
   ]
  },
  {
   "cell_type": "code",
   "execution_count": 103,
   "metadata": {
    "collapsed": false
   },
   "outputs": [
    {
     "name": "stdout",
     "output_type": "stream",
     "text": [
      "meson\n"
     ]
    }
   ],
   "source": [
    "def find_least(dic):\n",
    "    least_key =''\n",
    "    least_value =float(\"inf\")\n",
    "    \n",
    "    for particle in dic:\n",
    "        if dic[particle] < least_value:\n",
    "            least_value = dic[particle]\n",
    "            least_key = particle\n",
    "    return least_key\n",
    "\n",
    "a= {'neutron':0.55, 'proton':0.21, 'meson':0.03, 'muon':0.07, 'neutrino':0.14}\n",
    "print find_least(a)"
   ]
  },
  {
   "cell_type": "markdown",
   "metadata": {},
   "source": [
    "# Problem 7"
   ]
  },
  {
   "cell_type": "code",
   "execution_count": 109,
   "metadata": {
    "collapsed": false
   },
   "outputs": [
    {
     "name": "stdout",
     "output_type": "stream",
     "text": [
      "2\n"
     ]
    }
   ],
   "source": [
    "def count_duplicates(dic):\n",
    "    dup = set()\n",
    "    dic_count ={}\n",
    "    for (key, value) in dic.iteritems():\n",
    "        if not value in dic_count:\n",
    "            dic_count[value] = 1\n",
    "        else:\n",
    "            dup.add(value)\n",
    "    return len(dup)\n",
    "\n",
    "a = {1:1, 2:1, 3:2, 4:5, 5:7, 6:5}\n",
    "\n",
    "print count_duplicates(a)"
   ]
  },
  {
   "cell_type": "markdown",
   "metadata": {},
   "source": [
    "# Problem 8"
   ]
  },
  {
   "cell_type": "code",
   "execution_count": 112,
   "metadata": {
    "collapsed": false
   },
   "outputs": [
    {
     "name": "stdout",
     "output_type": "stream",
     "text": [
      "1\n",
      "{1: 5, 2: 1, 3: 2, 4: 5, 5: 7, 6: 5}\n"
     ]
    }
   ],
   "source": [
    "def fetch_and_set(dic, key, new_value):\n",
    "    try:\n",
    "        temp = dic[key]\n",
    "        dic[key] = new_value\n",
    "        return temp\n",
    "    except KeyError:\n",
    "        print \"Unable to replace value for nonexistent key\"\n",
    "        \n",
    "a = {1:1, 2:1, 3:2, 4:5, 5:7, 6:5}\n",
    "print fetch_and_set(a, 1, 5)\n",
    "print a"
   ]
  },
  {
   "cell_type": "markdown",
   "metadata": {},
   "source": [
    "# Problem 9"
   ]
  },
  {
   "cell_type": "code",
   "execution_count": 116,
   "metadata": {
    "collapsed": false
   },
   "outputs": [
    {
     "name": "stdout",
     "output_type": "stream",
     "text": [
      "True\n",
      "False\n"
     ]
    }
   ],
   "source": [
    "def is_balanced(colors):\n",
    "    return colors['R'] + colors['G'] + colors['B'] ==1\n",
    "\n",
    "colors = {'R':0.3, 'G':0.5, 'B':0.2}\n",
    "colors2 = {'R':0.3, 'G':0.5, 'B':0.21}\n",
    "print is_balanced(colors)\n",
    "print is_balanced(colors2)"
   ]
  },
  {
   "cell_type": "markdown",
   "metadata": {},
   "source": [
    "# Problem 10"
   ]
  },
  {
   "cell_type": "code",
   "execution_count": 124,
   "metadata": {
    "collapsed": false
   },
   "outputs": [
    {
     "name": "stdout",
     "output_type": "stream",
     "text": [
      "{2: 1, 3: 2, 4: 5, 5: 7}\n"
     ]
    }
   ],
   "source": [
    "def dict_intersect(a, b):\n",
    "    key1 = set(a.keys())\n",
    "    key2 = set (b.keys())\n",
    "    key_common = key1.intersection(key2)\n",
    "    \n",
    "    dict_common ={}\n",
    "    for key in key_common:\n",
    "        if a[key] == b[key]:\n",
    "            dict_common[key] = a[key]\n",
    "    return dict_common\n",
    "\n",
    "a = {1:1, 2:1, 3:2, 4:5, 5:7, 6:5}\n",
    "b = {1:1.2, 2:1, 3:2, 4:5, 5:7, 6:5.2, 8:3}\n",
    "print dict_intersect(a,b)"
   ]
  },
  {
   "cell_type": "code",
   "execution_count": 121,
   "metadata": {
    "collapsed": false
   },
   "outputs": [
    {
     "data": {
      "text/plain": [
       "['B', 'R', 'G']"
      ]
     },
     "execution_count": 121,
     "metadata": {},
     "output_type": "execute_result"
    }
   ],
   "source": [
    "colors.keys()"
   ]
  },
  {
   "cell_type": "markdown",
   "metadata": {
    "collapsed": true
   },
   "source": [
    "# Problem 11"
   ]
  },
  {
   "cell_type": "code",
   "execution_count": 127,
   "metadata": {
    "collapsed": false
   },
   "outputs": [
    {
     "name": "stdout",
     "output_type": "stream",
     "text": [
      "set(['surname', 'author', 'notes', 'born', 'forename', 'died'])\n"
     ]
    }
   ],
   "source": [
    "def db_heading(dict):\n",
    "    headings = set()\n",
    "    for scientist in dict:\n",
    "        for heading in dict[scientist].keys():\n",
    "            headings.add(heading)\n",
    "            \n",
    "    return headings\n",
    "\n",
    "scientists = {\n",
    "  'jgoodall'  : {'surname'  : 'Goodall',\n",
    "                 'forename' : 'Jane',\n",
    "                 'born'     : 1934,\n",
    "                 'died'     : None,\n",
    "                 'notes'    : 'primate researcher',\n",
    "                 'author'   : ['In the Shadow of Man', 'The Chimpanzees of Gombe']},\t\t\t\t \n",
    "  'rfranklin' : {'surname'  : 'Franklin',\n",
    "                 'forename' : 'Rosalind',\n",
    "                 'born'     : 1920,\n",
    "                 'died'     : 1957,\n",
    "                 'notes'    : 'contributed to discovery of DNA'},\n",
    "\t\n",
    "\t\n",
    "   'rcarson'  : {'surname'  : 'Carson',\n",
    "                 'forename' : 'Rachel',\n",
    "                 'born'     : 1907,\n",
    "                 'died'     : 1964,\n",
    "                 'notes'    : 'raised awareness of effects of DDT',\n",
    "                 'author'   : ['Silent Spring']}\n",
    "}\n",
    "\n",
    "print db_heading(a)"
   ]
  },
  {
   "cell_type": "markdown",
   "metadata": {},
   "source": [
    "# Problem 12"
   ]
  },
  {
   "cell_type": "code",
   "execution_count": 140,
   "metadata": {
    "collapsed": false
   },
   "outputs": [
    {
     "name": "stdout",
     "output_type": "stream",
     "text": [
      "scientists: heading set(['born', 'notes', 'surname', 'died', 'forename'])\n",
      "heading set(['surname', 'author', 'notes', 'born', 'forename', 'died'])\n",
      "heading set(['surname', 'author', 'notes', 'born', 'forename', 'died'])\n",
      "True\n",
      "scientists 2:  heading set(['surname', 'author', 'notes', 'born', 'forename', 'died'])\n",
      "heading set(['surname', 'author', 'notes', 'born', 'forename', 'died'])\n",
      "heading set(['surname', 'author', 'notes', 'born', 'forename', 'died'])\n",
      "True\n"
     ]
    }
   ],
   "source": [
    "def db_consistent(dict):\n",
    "    all_headings = db_heading(dict)\n",
    "    for sub_dict in dict:\n",
    "        headings = get_headings(dict[sub_dict])\n",
    "        print 'heading', headings\n",
    "#         print headings-all_headings\n",
    "        if headings - all_headings: # difference set of 2 sets\n",
    "            return False\n",
    "    \n",
    "    return True\n",
    "\n",
    "def get_headings(dict):\n",
    "    headings = set()\n",
    "    for key in dict:\n",
    "        headings.add(key)\n",
    "    return headings\n",
    "\n",
    "# print get_headings (scientists['rfranklin'])\n",
    "print 'scientists:', db_consistent(scientists)\n",
    "scientists2 = {\n",
    "  'jgoodall'  : {'surname'  : 'Goodall',\n",
    "                 'forename' : 'Jane',\n",
    "                 'born'     : 1934,\n",
    "                 'died'     : None,\n",
    "                 'notes'    : 'primate researcher',\n",
    "                 'author'   : ['In the Shadow of Man', 'The Chimpanzees of Gombe']},\t\t\t\t \n",
    "  'rfranklin' : {'surname'  : 'Franklin',\n",
    "                 'forename' : 'Rosalind',\n",
    "                 'born'     : 1920,\n",
    "                 'died'     : 1957,\n",
    "                 'notes'    : 'contributed to discovery of DNA',\n",
    "                 'author'   : ['Some stupid book']},\n",
    "\t\n",
    "\t\n",
    "   'rcarson'  : {'surname'  : 'Carson',\n",
    "                 'forename' : 'Rachel',\n",
    "                 'born'     : 1907,\n",
    "                 'died'     : 1964,\n",
    "                 'notes'    : 'raised awareness of effects of DDT',\n",
    "                 'author'   : ['Silent Spring']}\n",
    "}\n",
    "print 'scientists 2: ' , db_consistent(scientists2)"
   ]
  },
  {
   "cell_type": "markdown",
   "metadata": {
    "collapsed": true
   },
   "source": [
    "# Problem 13"
   ]
  },
  {
   "cell_type": "code",
   "execution_count": 6,
   "metadata": {
    "collapsed": false
   },
   "outputs": [
    {
     "name": "stdout",
     "output_type": "stream",
     "text": [
      "1\n",
      "  snow goose\n",
      "  northern fulmar\n",
      "2\n",
      "  long-tailed jaeger\n",
      "3\n",
      "  khanh\n",
      "7\n",
      "  canada goose\n"
     ]
    }
   ],
   "source": [
    "def count_birds(files):\n",
    "    birds = get_birds(files)\n",
    "    freq = invert_dict(birds)\n",
    "    print_invert_dict(freq)\n",
    "    \n",
    "def get_birds(files):\n",
    "    count = {}\n",
    "    for file in files:\n",
    "        file = open(file, 'r')\n",
    "        for line in file:\n",
    "            name = line.strip()\n",
    "            count[name] = count.get(name,0) + 1\n",
    "        file.close()\n",
    "    return count\n",
    "\n",
    "def invert_dict(count):\n",
    "    freq = {}\n",
    "    for (name, times) in count.items():\n",
    "        if times in freq:\n",
    "            freq[times].append(name)\n",
    "        else:\n",
    "            freq[times] = [name]\n",
    "    return freq\n",
    "\n",
    "def print_invert_dict(dict):\n",
    "    for key in sorted(dict):\n",
    "        print key\n",
    "        for name in dict[key]:\n",
    "            print ' ', name\n",
    "\n",
    "count_birds(['bird1.txt', 'bird2.txt'])"
   ]
  },
  {
   "cell_type": "markdown",
   "metadata": {},
   "source": [
    "# Problem 14"
   ]
  },
  {
   "cell_type": "code",
   "execution_count": 13,
   "metadata": {
    "collapsed": false
   },
   "outputs": [
    {
     "name": "stdout",
     "output_type": "stream",
     "text": [
      "{0: 1, 9: 1, 3: 6, 6: 2}\n"
     ]
    }
   ],
   "source": [
    "# a\n",
    "def sparse_add(sv1, sv2):\n",
    "    all_keys = set(sv1.keys() + sv2.keys())\n",
    "    ss = {} # ss stand for sparse sum\n",
    "    for key in all_keys:\n",
    "        ss[key] = sv1.get(key, 0) + sv2.get(key, 0)\n",
    "    return ss\n",
    "\n",
    "sv1 = {0:1, 3:5, 9:1}\n",
    "sv2 = {3:1, 6:2}\n",
    "print sparse_add(sv1, sv2)"
   ]
  },
  {
   "cell_type": "code",
   "execution_count": 15,
   "metadata": {
    "collapsed": false
   },
   "outputs": [
    {
     "name": "stdout",
     "output_type": "stream",
     "text": [
      "{0: 0, 9: 20, 3: 5, 6: 0}\n"
     ]
    }
   ],
   "source": [
    "# b\n",
    "def sparse_dot(sv1, sv2):\n",
    "    all_keys = set(sv1.keys() + sv2.keys())\n",
    "    ss = {} # ss stand for sparse sum\n",
    "    for key in all_keys:\n",
    "        ss[key] = sv1.get(key, 0) * sv2.get(key, 0)\n",
    "    return ss\n",
    "\n",
    "sv1 = {0:1, 3:5, 9:1}\n",
    "sv2 = {3:1, 6:2, 9:20}\n",
    "print sparse_dot(sv1, sv2)"
   ]
  },
  {
   "cell_type": "markdown",
   "metadata": {},
   "source": [
    "# c\n",
    "I will ask her if she need the length of original vector or just the numbers of non-zero element"
   ]
  },
  {
   "cell_type": "code",
   "execution_count": null,
   "metadata": {
    "collapsed": true
   },
   "outputs": [],
   "source": []
  }
 ],
 "metadata": {
  "anaconda-cloud": {},
  "kernelspec": {
   "display_name": "Python [conda root]",
   "language": "python",
   "name": "conda-root-py"
  },
  "language_info": {
   "codemirror_mode": {
    "name": "ipython",
    "version": 2
   },
   "file_extension": ".py",
   "mimetype": "text/x-python",
   "name": "python",
   "nbconvert_exporter": "python",
   "pygments_lexer": "ipython2",
   "version": "2.7.12"
  }
 },
 "nbformat": 4,
 "nbformat_minor": 1
}
