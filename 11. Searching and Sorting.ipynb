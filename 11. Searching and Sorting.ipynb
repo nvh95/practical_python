{
 "cells": [
  {
   "cell_type": "markdown",
   "metadata": {},
   "source": [
    "# Problem 1\n",
    "logN (based 2)"
   ]
  },
  {
   "cell_type": "markdown",
   "metadata": {},
   "source": [
    "# Problem 2"
   ]
  },
  {
   "cell_type": "raw",
   "metadata": {},
   "source": [
    "SELECTION SORT\n",
    "a = [6, 5, 4 ,3, 7, 1, 2]\n",
    "[1, 6, 5, 4, 3, 7, 2]\n",
    "[1, 2, 6, 5, 4 ,3, 7]\n",
    "[1, 2, 3, 6, 5, 4, 7]\n",
    "[1, 2, 3, 4, 6, 5, 7]\n",
    "[1, 2, 3, 4, 5, 6, 7]\n",
    "[1, 2, 3, 4, 5, 6, 7]\n",
    "\n",
    "INSERTION SORT\n",
    "a = [6, 5, 4 , 3, 7, 1, 2]\n",
    "[6, 5, 4, 3, 7, 1, 2]\n",
    "[5, 6, 4, 3, 7, 1, 2]\n",
    "[4, 5, 6, 3, 7, 1, 2]\n",
    "[3, 4, 5, 6, 7, 1, 2]\n",
    "[3, 4, 5, 6, 7, 1, 2]\n",
    "[1, 3, 4, 5, 6, 7, 2]\n",
    "[1, 2, 3, 4, 5, 6, 7]"
   ]
  },
  {
   "cell_type": "markdown",
   "metadata": {},
   "source": [
    "# Problem 3"
   ]
  },
  {
   "cell_type": "code",
   "execution_count": 6,
   "metadata": {
    "collapsed": false
   },
   "outputs": [
    {
     "name": "stdout",
     "output_type": "stream",
     "text": [
      "Overwriting bubble_sort.py\n"
     ]
    }
   ],
   "source": [
    "%%writefile bubble_sort.py\n",
    "def bubble_sort(numbers):\n",
    "    for i in range(len(numbers)):\n",
    "        for j in range(i+1, len(numbers)):\n",
    "            if numbers[i] > numbers[j]:\n",
    "                numbers[i], numbers[j] = numbers[j], numbers[i]\n",
    "\n",
    "# a = [4,3,2,6,-4, 94,3,2,-1,4,9]\n",
    "# bubble_sort(a)\n",
    "# print a"
   ]
  },
  {
   "cell_type": "code",
   "execution_count": 7,
   "metadata": {
    "collapsed": false
   },
   "outputs": [
    {
     "name": "stdout",
     "output_type": "stream",
     "text": [
      "Overwriting test_bubble_sort.py\n"
     ]
    }
   ],
   "source": [
    "%%writefile test_bubble_sort.py\n",
    "\n",
    "import nose\n",
    "from bubble_sort import bubble_sort\n",
    "\n",
    "# CAUTION: \n",
    "def run(original, expected):\n",
    "    '''Sort list original and compare it to list expected.'''\n",
    "    bubble_sort(original)\n",
    "    assert original == expected\n",
    "\n",
    "def test_empty():\n",
    "    '''Test sorting empty list.'''\n",
    "    run([], [])\n",
    "\n",
    "def test_one():\n",
    "    '''Test sorting a list of one value.'''\n",
    "    run([1], [1])\n",
    "\n",
    "def test_two_ordered():\n",
    "    '''Test sorting an already-sorted list of two values.'''\n",
    "    run([1, 2], [1, 2])\n",
    "\n",
    "def test_two_reversed():\n",
    "    '''Test sorting a reverse-ordered list of two values.'''\n",
    "    run([2, 1], [1, 2])\n",
    "\n",
    "def test_three_identical():\n",
    "    '''Test sorting a list of three equal values.'''\n",
    "    run([3, 3, 3], [3, 3, 3])\n",
    "\n",
    "def test_three_split():\n",
    "    '''Test sorting a list with an odd value out.'''\n",
    "    run([3, 0, 3], [0, 3, 3])\n",
    "\n",
    "if __name__ == '__main__':\n",
    "#     a= [1,2,1]\n",
    "#     bubble_sort(a)\n",
    "#     print a\n",
    "    nose.runmodule()"
   ]
  },
  {
   "cell_type": "code",
   "execution_count": 8,
   "metadata": {
    "collapsed": false
   },
   "outputs": [
    {
     "name": "stderr",
     "output_type": "stream",
     "text": [
      "......\n",
      "----------------------------------------------------------------------\n",
      "Ran 6 tests in 0.008s\n",
      "\n",
      "OK\n"
     ]
    }
   ],
   "source": [
    "%run test_bubble_sort.py"
   ]
  },
  {
   "cell_type": "code",
   "execution_count": 13,
   "metadata": {
    "collapsed": false
   },
   "outputs": [
    {
     "name": "stdout",
     "output_type": "stream",
     "text": [
      "[-2, 5, 4, 3, 2, 0, 4, 74, 2, 6, 3]\n",
      "[-2, 0, 5, 4, 3, 2, 4, 74, 2, 6, 3]\n",
      "[-2, 0, 2, 5, 4, 3, 4, 74, 2, 6, 3]\n",
      "[-2, 0, 2, 2, 5, 4, 4, 74, 3, 6, 3]\n",
      "[-2, 0, 2, 2, 3, 5, 4, 74, 4, 6, 3]\n",
      "[-2, 0, 2, 2, 3, 3, 5, 74, 4, 6, 4]\n",
      "[-2, 0, 2, 2, 3, 3, 4, 74, 5, 6, 4]\n",
      "[-2, 0, 2, 2, 3, 3, 4, 4, 74, 6, 5]\n",
      "[-2, 0, 2, 2, 3, 3, 4, 4, 5, 74, 6]\n",
      "[-2, 0, 2, 2, 3, 3, 4, 4, 5, 6, 74]\n",
      "[-2, 0, 2, 2, 3, 3, 4, 4, 5, 6, 74]\n",
      "[-2, 0, 2, 2, 3, 3, 4, 4, 5, 6, 74]\n"
     ]
    }
   ],
   "source": [
    "def bubble_sort(numbers):\n",
    "    for i in range(len(numbers)):\n",
    "        for j in range(i+1, len(numbers)):\n",
    "            if numbers[i] > numbers[j]:\n",
    "                numbers[i], numbers[j] = numbers[j], numbers[i]\n",
    "        print numbers\n",
    "a= [5,4,3,0,2,-2,4,74,2,6,3]\n",
    "bubble_sort(a)\n",
    "print a"
   ]
  },
  {
   "cell_type": "code",
   "execution_count": null,
   "metadata": {
    "collapsed": true
   },
   "outputs": [],
   "source": []
  }
 ],
 "metadata": {
  "anaconda-cloud": {},
  "kernelspec": {
   "display_name": "Python [conda root]",
   "language": "python",
   "name": "conda-root-py"
  },
  "language_info": {
   "codemirror_mode": {
    "name": "ipython",
    "version": 2
   },
   "file_extension": ".py",
   "mimetype": "text/x-python",
   "name": "python",
   "nbconvert_exporter": "python",
   "pygments_lexer": "ipython2",
   "version": "2.7.12"
  }
 },
 "nbformat": 4,
 "nbformat_minor": 1
}
