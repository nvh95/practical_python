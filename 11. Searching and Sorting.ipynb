{
 "cells": [
  {
   "cell_type": "markdown",
   "metadata": {},
   "source": [
    "# Problem 1\n",
    "logN (based 2)"
   ]
  },
  {
   "cell_type": "markdown",
   "metadata": {},
   "source": [
    "# Problem 2"
   ]
  },
  {
   "cell_type": "raw",
   "metadata": {},
   "source": [
    "SELECTION SORT\n",
    "a = [6, 5, 4 ,3, 7, 1, 2]\n",
    "[1, 6, 5, 4, 3, 7, 2]\n",
    "[1, 2, 6, 5, 4 ,3, 7]\n",
    "[1, 2, 3, 6, 5, 4, 7]\n",
    "[1, 2, 3, 4, 6, 5, 7]\n",
    "[1, 2, 3, 4, 5, 6, 7]\n",
    "[1, 2, 3, 4, 5, 6, 7]\n",
    "\n",
    "INSERTION SORT\n",
    "a = [6, 5, 4 , 3, 7, 1, 2]\n",
    "[6, 5, 4, 3, 7, 1, 2]\n",
    "[5, 6, 4, 3, 7, 1, 2]\n",
    "[4, 5, 6, 3, 7, 1, 2]\n",
    "[3, 4, 5, 6, 7, 1, 2]\n",
    "[3, 4, 5, 6, 7, 1, 2]\n",
    "[1, 3, 4, 5, 6, 7, 2]\n",
    "[1, 2, 3, 4, 5, 6, 7]"
   ]
  },
  {
   "cell_type": "markdown",
   "metadata": {},
   "source": [
    "# Problem 3"
   ]
  },
  {
   "cell_type": "code",
   "execution_count": 6,
   "metadata": {
    "collapsed": false
   },
   "outputs": [
    {
     "name": "stdout",
     "output_type": "stream",
     "text": [
      "Overwriting bubble_sort.py\n"
     ]
    }
   ],
   "source": [
    "%%writefile bubble_sort.py\n",
    "def bubble_sort(numbers):\n",
    "    for i in range(len(numbers)):\n",
    "        for j in range(i+1, len(numbers)):\n",
    "            if numbers[i] > numbers[j]:\n",
    "                numbers[i], numbers[j] = numbers[j], numbers[i]\n",
    "\n",
    "# a = [4,3,2,6,-4, 94,3,2,-1,4,9]\n",
    "# bubble_sort(a)\n",
    "# print a"
   ]
  },
  {
   "cell_type": "code",
   "execution_count": 7,
   "metadata": {
    "collapsed": false
   },
   "outputs": [
    {
     "name": "stdout",
     "output_type": "stream",
     "text": [
      "Overwriting test_bubble_sort.py\n"
     ]
    }
   ],
   "source": [
    "%%writefile test_bubble_sort.py\n",
    "\n",
    "import nose\n",
    "from bubble_sort import bubble_sort\n",
    "\n",
    "# CAUTION: \n",
    "def run(original, expected):\n",
    "    '''Sort list original and compare it to list expected.'''\n",
    "    bubble_sort(original)\n",
    "    assert original == expected\n",
    "\n",
    "def test_empty():\n",
    "    '''Test sorting empty list.'''\n",
    "    run([], [])\n",
    "\n",
    "def test_one():\n",
    "    '''Test sorting a list of one value.'''\n",
    "    run([1], [1])\n",
    "\n",
    "def test_two_ordered():\n",
    "    '''Test sorting an already-sorted list of two values.'''\n",
    "    run([1, 2], [1, 2])\n",
    "\n",
    "def test_two_reversed():\n",
    "    '''Test sorting a reverse-ordered list of two values.'''\n",
    "    run([2, 1], [1, 2])\n",
    "\n",
    "def test_three_identical():\n",
    "    '''Test sorting a list of three equal values.'''\n",
    "    run([3, 3, 3], [3, 3, 3])\n",
    "\n",
    "def test_three_split():\n",
    "    '''Test sorting a list with an odd value out.'''\n",
    "    run([3, 0, 3], [0, 3, 3])\n",
    "\n",
    "if __name__ == '__main__':\n",
    "#     a= [1,2,1]\n",
    "#     bubble_sort(a)\n",
    "#     print a\n",
    "    nose.runmodule()"
   ]
  },
  {
   "cell_type": "code",
   "execution_count": 8,
   "metadata": {
    "collapsed": false
   },
   "outputs": [
    {
     "name": "stderr",
     "output_type": "stream",
     "text": [
      "......\n",
      "----------------------------------------------------------------------\n",
      "Ran 6 tests in 0.008s\n",
      "\n",
      "OK\n"
     ]
    }
   ],
   "source": [
    "%run test_bubble_sort.py"
   ]
  },
  {
   "cell_type": "code",
   "execution_count": 13,
   "metadata": {
    "collapsed": false
   },
   "outputs": [
    {
     "name": "stdout",
     "output_type": "stream",
     "text": [
      "[-2, 5, 4, 3, 2, 0, 4, 74, 2, 6, 3]\n",
      "[-2, 0, 5, 4, 3, 2, 4, 74, 2, 6, 3]\n",
      "[-2, 0, 2, 5, 4, 3, 4, 74, 2, 6, 3]\n",
      "[-2, 0, 2, 2, 5, 4, 4, 74, 3, 6, 3]\n",
      "[-2, 0, 2, 2, 3, 5, 4, 74, 4, 6, 3]\n",
      "[-2, 0, 2, 2, 3, 3, 5, 74, 4, 6, 4]\n",
      "[-2, 0, 2, 2, 3, 3, 4, 74, 5, 6, 4]\n",
      "[-2, 0, 2, 2, 3, 3, 4, 4, 74, 6, 5]\n",
      "[-2, 0, 2, 2, 3, 3, 4, 4, 5, 74, 6]\n",
      "[-2, 0, 2, 2, 3, 3, 4, 4, 5, 6, 74]\n",
      "[-2, 0, 2, 2, 3, 3, 4, 4, 5, 6, 74]\n",
      "[-2, 0, 2, 2, 3, 3, 4, 4, 5, 6, 74]\n"
     ]
    }
   ],
   "source": [
    "def bubble_sort(numbers):\n",
    "    for i in range(len(numbers)):\n",
    "        for j in range(i+1, len(numbers)):\n",
    "            if numbers[i] > numbers[j]:\n",
    "                numbers[i], numbers[j] = numbers[j], numbers[i]\n",
    "        print numbers\n",
    "a= [5,4,3,0,2,-2,4,74,2,6,3]\n",
    "bubble_sort(a)\n",
    "print a"
   ]
  },
  {
   "cell_type": "markdown",
   "metadata": {
    "collapsed": true
   },
   "source": [
    "# Problem 5"
   ]
  },
  {
   "cell_type": "code",
   "execution_count": 8,
   "metadata": {
    "collapsed": false
   },
   "outputs": [
    {
     "name": "stdout",
     "output_type": "stream",
     "text": [
      "length of L 2000\n",
      "Function insertion_sort takes 1.204233 seconds\n",
      "Function selection_sort takes 1.705465 seconds\n",
      "Function bubble_sort takes 2.032773 seconds\n",
      "\n",
      "length of L 10000\n",
      "Function insertion_sort takes 34.538499 seconds\n",
      "Function selection_sort takes 37.041563 seconds\n",
      "Function bubble_sort takes 45.342991 seconds\n",
      "\n",
      "length of L 5000\n",
      "Function insertion_sort takes 7.098142 seconds\n",
      "Function selection_sort takes 8.157133 seconds\n",
      "Function bubble_sort takes 10.640017 seconds\n",
      "\n",
      "length of L 7800\n",
      "Function insertion_sort takes 17.660630 seconds\n",
      "Function selection_sort takes 19.927352 seconds\n",
      "Function bubble_sort takes 25.916336 seconds\n",
      "\n"
     ]
    }
   ],
   "source": [
    "import time\n",
    "\n",
    "def bubble_sort(numbers):\n",
    "    for i in range(len(numbers)):\n",
    "        for j in range(i+1, len(numbers)):\n",
    "            if numbers[i] > numbers[j]:\n",
    "                numbers[i], numbers[j] = numbers[j], numbers[i]\n",
    "        #print numbers\n",
    "        \n",
    "def insertion_sort(L):\n",
    "    \"\"\"Reorder the values in L from smallest to largest.\"\"\"\n",
    "\n",
    "    i = 0\n",
    "    while i != len(L):\n",
    "        insert(L, i)\n",
    "        i = i + 1\n",
    "\n",
    "def insert(L, b):\n",
    "    \"\"\"Insert L[b] where it belongs in L[0:b + 1]; \n",
    "       L[0:b - 1] must already be sorted.\"\"\"\n",
    "\n",
    "    # Find where to insert L[b] by searching backwards from L[b] for a smaller item.\n",
    "    i = b\n",
    "    while i != 0 and L[i - 1] >= L[b]:\n",
    "        i = i - 1\n",
    "\n",
    "    # Move L[b] to index i, shifting the following values to the right.\n",
    "    value = L[b]\n",
    "    del L[b]\n",
    "    L.insert(i, value)\n",
    "    \n",
    "def selection_sort(L):\n",
    "    \"\"\"Reorder the values in L from smallest to largest.\"\"\"\n",
    "\n",
    "    i = 0\n",
    "    while i != len(L):\n",
    "        smallest = find_min(L, i)\n",
    "        L[i], L[smallest] = L[smallest], L[i]\n",
    "        i = i + 1\n",
    "\n",
    "def find_min(L, b):\n",
    "    \"\"\"Return the index of the smallest value in L[b:].\"\"\"\n",
    "\n",
    "    smallest = b # The index of the smallest so far.\n",
    "    i = b + 1\n",
    "    while i != len(L):\n",
    "        if L[i] < L[smallest]:\n",
    "            # We found a smaller item at L[i].\n",
    "            smallest = i\n",
    "            \n",
    "        i = i + 1\n",
    "\n",
    "    return smallest\n",
    "\n",
    "\n",
    "def print_times(L):\n",
    "    print \"length of L\", len(L)\n",
    "    \n",
    "    for func in(insertion_sort, selection_sort, bubble_sort):\n",
    "        L_copy = L[:]\n",
    "        t1 = time.time()\n",
    "        func(L_copy)\n",
    "        t2= time.time()\n",
    "        print \"Function %s takes %f seconds\"%(func.__name__, (t2-t1))\n",
    "    print\n",
    "    \n",
    "for list_size in [2000,10000,5000,7800]:\n",
    "    L=range(list_size)\n",
    "    L.reverse()\n",
    "    print_times(L)\n",
    "    \n"
   ]
  },
  {
   "cell_type": "code",
   "execution_count": 13,
   "metadata": {
    "collapsed": false
   },
   "outputs": [
    {
     "name": "stdout",
     "output_type": "stream",
     "text": [
      "length of L 2000\n",
      "Function insertion_sort takes 0.690706 seconds\n",
      "Function selection_sort takes 1.299990 seconds\n",
      "Function built_in takes 0.000732 seconds\n",
      "\n",
      "length of L 3000\n",
      "Function insertion_sort takes 1.498379 seconds\n",
      "Function selection_sort takes 2.899730 seconds\n",
      "Function built_in takes 0.001152 seconds\n",
      "\n",
      "length of L 5000\n",
      "Function insertion_sort takes 3.782672 seconds\n",
      "Function selection_sort takes 7.913022 seconds\n",
      "Function built_in takes 0.002054 seconds\n",
      "\n",
      "length of L 7800\n",
      "Function insertion_sort takes 9.269930 seconds\n",
      "Function selection_sort takes 19.403423 seconds\n",
      "Function built_in takes 0.005598 seconds\n",
      "\n",
      "length of L 20000\n",
      "Function insertion_sort takes 57.726136 seconds\n",
      "Function selection_sort takes 142.525700 seconds\n",
      "Function built_in takes 0.009722 seconds\n",
      "\n"
     ]
    }
   ],
   "source": [
    "import random\n",
    "\n",
    "def built_in(L):\n",
    "    L.sort()\n",
    "\n",
    "def print_times(L):\n",
    "    print \"length of L\", len(L)\n",
    "    \n",
    "    for func in(insertion_sort, selection_sort, built_in):\n",
    "        L_copy = L[:]\n",
    "        t1 = time.time()\n",
    "        func(L_copy)\n",
    "        t2= time.time()\n",
    "        print \"Function %s takes %f seconds\"%(func.__name__, (t2-t1))\n",
    "    print\n",
    "    \n",
    "for list_size in [2000,3000,5000,7800,20000]:\n",
    "    #L=range(list_size)\n",
    "    L = random.sample(range(100000), list_size)\n",
    "    L.reverse()\n",
    "    print_times(L)"
   ]
  },
  {
   "cell_type": "markdown",
   "metadata": {},
   "source": [
    "# Problem 7\n",
    "Assume list already had M element, so the complexity should be N*log(M+N)"
   ]
  },
  {
   "cell_type": "markdown",
   "metadata": {},
   "source": [
    "# Problem 8\n",
    "We can specify the range a variable will take the value then use a for loop.\n",
    "I prefer 2nd approach. \"What are the valid values of the loop index?\""
   ]
  },
  {
   "cell_type": "markdown",
   "metadata": {},
   "source": [
    "# Problem 9"
   ]
  },
  {
   "cell_type": "code",
   "execution_count": 29,
   "metadata": {
    "collapsed": false,
    "scrolled": true
   },
   "outputs": [
    {
     "name": "stdout",
     "output_type": "stream",
     "text": [
      "[107, 747, 884, 1505, 2673, 4559, 4577, 5195, 5406, 6756, 6993, 7031, 8158, 9807]\n",
      "[107, 747, 884, 1505, 2673, 4559, 4577, 5195, 5406, 6756, 6993, 7031, 8158, 9807]\n",
      "True\n"
     ]
    }
   ],
   "source": [
    "def merge(L1, L2):\n",
    "    \"\"\"Merge sorted lists L1 and L2 and return the result.\"\"\"\n",
    "    \n",
    "    newL = []\n",
    "    i1 = 0\n",
    "    i2 = 0\n",
    "\n",
    "    # For each pair of items L1[1], L2[i2], copy the smaller into newL.\n",
    "    while i1 != len(L1) or i2 != len(L2):\n",
    "        if (i1 == len(L1)):\n",
    "            newL.append(L2[i2])\n",
    "            i2 += 1\n",
    "        elif (i2 == len(L2)):\n",
    "            newL.append(L1[i1])\n",
    "            i1 += 1\n",
    "        else:\n",
    "            if L1[i1] <= L2[i2]:\n",
    "                newL.append(L1[i1])\n",
    "                i1 += 1\n",
    "            else:\n",
    "                newL.append(L2[i2])\n",
    "                i2 += 1\n",
    "    \n",
    "    # Gather any leftover items from the two sections.\n",
    "    # Note that one of them will be empty because of the loop condition.\n",
    "#     newL.extend(L1[i1:])\n",
    "#     newL.extend(L2[i2:])\n",
    "\n",
    "    return newL\n",
    "\n",
    "def mergesort(L):\n",
    "    \"\"\"Sort L.\"\"\"\n",
    "    \n",
    "    # Make a list of 1-item lists so that we can start merging.\n",
    "    workspace = []\n",
    "    for i in range(len(L)):\n",
    "        workspace.append([L[i]])\n",
    "    \n",
    "    # The next two lists to merge are workspace[i] and workspace[i + 1].\n",
    "    i = 0\n",
    "    \n",
    "    # As long as there are at least two more lists to merge, merge them.\n",
    "    while i < len(workspace) - 1:\n",
    "        L1 = workspace[i]\n",
    "        L2 = workspace[i + 1]\n",
    "        newL = merge(L1, L2)\n",
    "        workspace.append(newL)\n",
    "        i += 2\n",
    "\n",
    "    # Copy the result back into L.\n",
    "    if len(workspace) != 0:\n",
    "        L[:] = workspace[-1][:]\n",
    "        \n",
    "import random\n",
    "\n",
    "# a = random.sample(range(10000), 4)       \n",
    "# mergesort(a)\n",
    "# b = random.sample(range(10000), 10)\n",
    "# mergesort(b)\n",
    "print c\n",
    "print merge(a, b)\n",
    "\n",
    "if c == merge(a,b):\n",
    "    print True\n",
    "else:\n",
    "    print False"
   ]
  }
 ],
 "metadata": {
  "anaconda-cloud": {},
  "kernelspec": {
   "display_name": "Python [conda root]",
   "language": "python",
   "name": "conda-root-py"
  },
  "language_info": {
   "codemirror_mode": {
    "name": "ipython",
    "version": 2
   },
   "file_extension": ".py",
   "mimetype": "text/x-python",
   "name": "python",
   "nbconvert_exporter": "python",
   "pygments_lexer": "ipython2",
   "version": "2.7.12"
  }
 },
 "nbformat": 4,
 "nbformat_minor": 1
}
