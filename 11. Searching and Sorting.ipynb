{
 "cells": [
  {
   "cell_type": "markdown",
   "metadata": {},
   "source": [
    "# Problem 1\n",
    "logN (based 2)"
   ]
  },
  {
   "cell_type": "markdown",
   "metadata": {},
   "source": [
    "# Problem 2"
   ]
  },
  {
   "cell_type": "raw",
   "metadata": {},
   "source": [
    "SELECTION SORT\n",
    "a = [6, 5, 4 ,3, 7, 1, 2]\n",
    "[1, 6, 5, 4, 3, 7, 2]\n",
    "[1, 2, 6, 5, 4 ,3, 7]\n",
    "[1, 2, 3, 6, 5, 4, 7]\n",
    "[1, 2, 3, 4, 6, 5, 7]\n",
    "[1, 2, 3, 4, 5, 6, 7]\n",
    "[1, 2, 3, 4, 5, 6, 7]\n",
    "\n",
    "INSERTION SORT\n",
    "a = [6, 5, 4 , 3, 7, 1, 2]\n",
    "[6, 5, 4, 3, 7, 1, 2]\n",
    "[5, 6, 4, 3, 7, 1, 2]\n",
    "[4, 5, 6, 3, 7, 1, 2]\n",
    "[3, 4, 5, 6, 7, 1, 2]\n",
    "[3, 4, 5, 6, 7, 1, 2]\n",
    "[1, 3, 4, 5, 6, 7, 2]\n",
    "[1, 2, 3, 4, 5, 6, 7]"
   ]
  },
  {
   "cell_type": "markdown",
   "metadata": {},
   "source": [
    "# Problem 3"
   ]
  },
  {
   "cell_type": "code",
   "execution_count": 8,
   "metadata": {
    "collapsed": false
   },
   "outputs": [
    {
     "name": "stdout",
     "output_type": "stream",
     "text": [
      "Overwriting bubble_sort.py\n"
     ]
    }
   ],
   "source": [
    "%%writefile bubble_sort.py\n",
    "def bubble_sort(numbers):\n",
    "    for i in range(len(numbers),1,-1):\n",
    "        for j in range(0, i-1):\n",
    "            #print (i,j)\n",
    "            if numbers[j] > numbers[j+1]:\n",
    "                numbers[j], numbers[j+1] = numbers[j+1], numbers[j]\n",
    "\n",
    "a = [4,3,2,6,-4, 94,3,2,-1,4,9]\n",
    "bubble_sort(a)\n",
    "print a"
   ]
  },
  {
   "cell_type": "code",
   "execution_count": 9,
   "metadata": {
    "collapsed": false
   },
   "outputs": [
    {
     "name": "stdout",
     "output_type": "stream",
     "text": [
      "Overwriting test_bubble_sort.py\n"
     ]
    }
   ],
   "source": [
    "%%writefile test_bubble_sort.py\n",
    "\n",
    "import nose\n",
    "from bubble_sort import bubble_sort\n",
    "\n",
    "# CAUTION: \n",
    "def run(original, expected):\n",
    "    '''Sort list original and compare it to list expected.'''\n",
    "    bubble_sort(original)\n",
    "    assert original == expected\n",
    "\n",
    "def test_empty():\n",
    "    '''Test sorting empty list.'''\n",
    "    run([], [])\n",
    "\n",
    "def test_one():\n",
    "    '''Test sorting a list of one value.'''\n",
    "    run([1], [1])\n",
    "\n",
    "def test_two_ordered():\n",
    "    '''Test sorting an already-sorted list of two values.'''\n",
    "    run([1, 2], [1, 2])\n",
    "\n",
    "def test_two_reversed():\n",
    "    '''Test sorting a reverse-ordered list of two values.'''\n",
    "    run([2, 1], [1, 2])\n",
    "\n",
    "def test_three_identical():\n",
    "    '''Test sorting a list of three equal values.'''\n",
    "    run([3, 3, 3], [3, 3, 3])\n",
    "\n",
    "def test_three_split():\n",
    "    '''Test sorting a list with an odd value out.'''\n",
    "    run([3, 0, 3], [0, 3, 3])\n",
    "\n",
    "if __name__ == '__main__':\n",
    "#     a= [1,2,1]\n",
    "#     bubble_sort(a)\n",
    "#     print a\n",
    "    nose.runmodule()"
   ]
  },
  {
   "cell_type": "code",
   "execution_count": 10,
   "metadata": {
    "collapsed": false,
    "scrolled": true
   },
   "outputs": [
    {
     "name": "stderr",
     "output_type": "stream",
     "text": [
      "......\n",
      "----------------------------------------------------------------------\n",
      "Ran 6 tests in 0.007s\n",
      "\n",
      "OK\n"
     ]
    }
   ],
   "source": [
    "%run test_bubble_sort.py"
   ]
  },
  {
   "cell_type": "markdown",
   "metadata": {},
   "source": [
    "# Problem 4"
   ]
  },
  {
   "cell_type": "code",
   "execution_count": 22,
   "metadata": {
    "collapsed": false
   },
   "outputs": [
    {
     "name": "stdout",
     "output_type": "stream",
     "text": [
      "Overwriting bubble_sort2.py\n"
     ]
    }
   ],
   "source": [
    "%%writefile bubble_sort2.py\n",
    "def bubble_sort2(numbers):\n",
    "    for i in range(0, len(numbers)):\n",
    "        for j in range(len(numbers)-1, i-1, -1):\n",
    "#             print (i,j)\n",
    "            if numbers[j] < numbers[j-1]:\n",
    "                numbers[j], numbers[j-1] = numbers[j-1], numbers[j]\n",
    "\n",
    "# a = [4,3,2,6,-4, 94,3,2,-1,4,9]\n",
    "# bubble_sort(a)\n",
    "# print a"
   ]
  },
  {
   "cell_type": "code",
   "execution_count": 23,
   "metadata": {
    "collapsed": false
   },
   "outputs": [
    {
     "name": "stdout",
     "output_type": "stream",
     "text": [
      "Overwriting test_bubble_sort2.py\n"
     ]
    }
   ],
   "source": [
    "%%writefile test_bubble_sort2.py\n",
    "\n",
    "import nose\n",
    "from bubble_sort2 import bubble_sort2\n",
    "\n",
    "# CAUTION: \n",
    "def run(original, expected):\n",
    "    '''Sort list original and compare it to list expected.'''\n",
    "    bubble_sort2(original)\n",
    "    assert original == expected\n",
    "\n",
    "def test_empty():\n",
    "    '''Test sorting empty list.'''\n",
    "    run([], [])\n",
    "\n",
    "def test_one():\n",
    "    '''Test sorting a list of one value.'''\n",
    "    run([1], [1])\n",
    "\n",
    "def test_two_ordered():\n",
    "    '''Test sorting an already-sorted list of two values.'''\n",
    "    run([1, 2], [1, 2])\n",
    "\n",
    "def test_two_reversed():\n",
    "    '''Test sorting a reverse-ordered list of two values.'''\n",
    "    run([2, 1], [1, 2])\n",
    "\n",
    "def test_three_identical():\n",
    "    '''Test sorting a list of three equal values.'''\n",
    "    run([3, 3, 3], [3, 3, 3])\n",
    "\n",
    "def test_three_split():\n",
    "    '''Test sorting a list with an odd value out.'''\n",
    "    run([3, 0, 3], [0, 3, 3])\n",
    "\n",
    "if __name__ == '__main__':\n",
    "#     a= [1,2,1]\n",
    "#     bubble_sort(a)\n",
    "#     print a\n",
    "    nose.runmodule()"
   ]
  },
  {
   "cell_type": "code",
   "execution_count": 24,
   "metadata": {
    "collapsed": false,
    "scrolled": true
   },
   "outputs": [
    {
     "name": "stderr",
     "output_type": "stream",
     "text": [
      "......\n",
      "----------------------------------------------------------------------\n",
      "Ran 6 tests in 0.007s\n",
      "\n",
      "OK\n"
     ]
    }
   ],
   "source": [
    "%run test_bubble_sort2.py"
   ]
  },
  {
   "cell_type": "code",
   "execution_count": 26,
   "metadata": {
    "collapsed": false
   },
   "outputs": [
    {
     "name": "stdout",
     "output_type": "stream",
     "text": [
      "[9, 4, 3, 2, 6, -1, 94, 3, 2, 4, -4]\n",
      "[-4, 9, 4, 3, 2, 6, -1, 94, 3, 2, 4]\n",
      "[-4, -1, 9, 4, 3, 2, 6, 2, 94, 3, 4]\n",
      "[-4, -1, 2, 9, 4, 3, 2, 6, 3, 94, 4]\n",
      "[-4, -1, 2, 2, 9, 4, 3, 3, 6, 4, 94]\n",
      "[-4, -1, 2, 2, 3, 9, 4, 3, 4, 6, 94]\n",
      "[-4, -1, 2, 2, 3, 3, 9, 4, 4, 6, 94]\n",
      "[-4, -1, 2, 2, 3, 3, 4, 9, 4, 6, 94]\n",
      "[-4, -1, 2, 2, 3, 3, 4, 4, 9, 6, 94]\n",
      "[-4, -1, 2, 2, 3, 3, 4, 4, 6, 9, 94]\n",
      "[-4, -1, 2, 2, 3, 3, 4, 4, 6, 9, 94]\n",
      "[-4, -1, 2, 2, 3, 3, 4, 4, 6, 9, 94]\n"
     ]
    }
   ],
   "source": [
    "def bubble_sort2(numbers):\n",
    "    for i in range(0, len(numbers)):\n",
    "        for j in range(len(numbers)-1, i-1, -1):\n",
    "#             print (i,j)\n",
    "            if numbers[j] < numbers[j-1]:\n",
    "                numbers[j], numbers[j-1] = numbers[j-1], numbers[j]\n",
    "        print numbers\n",
    "\n",
    "a = [4,3,2,6,-4, 94,3,2,-1,4,9]\n",
    "bubble_sort2(a)\n",
    "print a"
   ]
  },
  {
   "cell_type": "markdown",
   "metadata": {},
   "source": [
    "# Problem 5"
   ]
  },
  {
   "cell_type": "code",
   "execution_count": null,
   "metadata": {
    "collapsed": true
   },
   "outputs": [],
   "source": []
  }
 ],
 "metadata": {
  "anaconda-cloud": {},
  "kernelspec": {
   "display_name": "Python [Root]",
   "language": "python",
   "name": "Python [Root]"
  },
  "language_info": {
   "codemirror_mode": {
    "name": "ipython",
    "version": 2
   },
   "file_extension": ".py",
   "mimetype": "text/x-python",
   "name": "python",
   "nbconvert_exporter": "python",
   "pygments_lexer": "ipython2",
   "version": "2.7.12"
  }
 },
 "nbformat": 4,
 "nbformat_minor": 1
}
